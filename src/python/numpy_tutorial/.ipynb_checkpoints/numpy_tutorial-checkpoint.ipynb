{
 "cells": [
  {
   "cell_type": "markdown",
   "metadata": {},
   "source": [
    "# NumPy Array\n",
    "\n",
    "- How to create an empty and a full NumPy array?"
   ]
  },
  {
   "cell_type": "code",
   "execution_count": 1,
   "metadata": {},
   "outputs": [
    {
     "data": {
      "text/plain": [
       "array([[0.00000000e+000, 0.00000000e+000, 7.23792176e+271],\n",
       "       [3.42134148e+180, 9.05280140e+223, 1.62692137e+219],\n",
       "       [2.17237424e-153, 3.50827323e-292, 2.29994855e-287]])"
      ]
     },
     "execution_count": 1,
     "metadata": {},
     "output_type": "execute_result"
    }
   ],
   "source": [
    "import scipy\n",
    "import numpy as np\n",
    "\n",
    "# Criando empty array 3x3\n",
    "np.empty([3,3])"
   ]
  },
  {
   "cell_type": "code",
   "execution_count": 2,
   "metadata": {},
   "outputs": [
    {
     "data": {
      "text/plain": [
       "array([[1, 1, 2],\n",
       "       [1, 1, 2],\n",
       "       [1, 1, 2]])"
      ]
     },
     "execution_count": 2,
     "metadata": {},
     "output_type": "execute_result"
    }
   ],
   "source": [
    "# Criando full array\n",
    "np.full((3,3), [1,1,2])\n"
   ]
  },
  {
   "cell_type": "markdown",
   "metadata": {},
   "source": [
    "- Create a Numpy array filled with all zeros"
   ]
  },
  {
   "cell_type": "code",
   "execution_count": 3,
   "metadata": {},
   "outputs": [
    {
     "data": {
      "text/plain": [
       "array([[0., 0., 0.],\n",
       "       [0., 0., 0.],\n",
       "       [0., 0., 0.]])"
      ]
     },
     "execution_count": 3,
     "metadata": {},
     "output_type": "execute_result"
    }
   ],
   "source": [
    "np.zeros([3,3])"
   ]
  },
  {
   "cell_type": "markdown",
   "metadata": {},
   "source": [
    "- Create a Numpy array filled with all ones"
   ]
  },
  {
   "cell_type": "code",
   "execution_count": 4,
   "metadata": {},
   "outputs": [
    {
     "data": {
      "text/plain": [
       "array([[1., 1., 1.],\n",
       "       [1., 1., 1.],\n",
       "       [1., 1., 1.]])"
      ]
     },
     "execution_count": 4,
     "metadata": {},
     "output_type": "execute_result"
    }
   ],
   "source": [
    "np.ones([3,3])"
   ]
  },
  {
   "cell_type": "markdown",
   "metadata": {},
   "source": [
    "- Check whether a Numpy array contains a specified row"
   ]
  },
  {
   "cell_type": "code",
   "execution_count": 5,
   "metadata": {},
   "outputs": [
    {
     "name": "stdout",
     "output_type": "stream",
     "text": [
      "False\n",
      "True\n"
     ]
    }
   ],
   "source": [
    "array = np.ones([3,3])\n",
    "print([1,0,1] in array.tolist())\n",
    "print([1,1,1] in array.tolist())"
   ]
  },
  {
   "cell_type": "markdown",
   "metadata": {},
   "source": [
    "- How to Remove rows in Numpy array that contains non-numeric values?"
   ]
  },
  {
   "cell_type": "code",
   "execution_count": 6,
   "metadata": {},
   "outputs": [
    {
     "name": "stdout",
     "output_type": "stream",
     "text": [
      "[[ 5. nan  1.]\n",
      " [ 3.  3.  4.]\n",
      " [nan  1.  0.]]\n"
     ]
    }
   ],
   "source": [
    "array_nans = np.full((3,3),[[5,np.nan,1],[3,3,4],[np.nan, 1, 0]])\n",
    "print(array_nans)"
   ]
  },
  {
   "cell_type": "code",
   "execution_count": 7,
   "metadata": {},
   "outputs": [
    {
     "name": "stdout",
     "output_type": "stream",
     "text": [
      "[[3. 3. 4.]]\n"
     ]
    }
   ],
   "source": [
    "print(array_nans[~np.isnan(array_nans).any(axis=1)])"
   ]
  },
  {
   "cell_type": "markdown",
   "metadata": {},
   "source": [
    "- Remove single-dimensional entries from the shape of an array"
   ]
  },
  {
   "cell_type": "code",
   "execution_count": 8,
   "metadata": {},
   "outputs": [
    {
     "name": "stdout",
     "output_type": "stream",
     "text": [
      "Array antes\n",
      "[[[0. 0. 0. 0.]]\n",
      "\n",
      " [[0. 0. 0. 0.]]\n",
      "\n",
      " [[0. 0. 0. 0.]]]\n",
      "\n",
      "\n",
      "Dimensão do array depois da redução:\n",
      "(3, 4)\n"
     ]
    }
   ],
   "source": [
    "x = np.zeros((3, 1, 4))\n",
    "print(\"Array antes\")\n",
    "print(x)\n",
    "print(\"\\n\")\n",
    "print(\"Dimensão do array depois da redução:\")\n",
    "print(np.squeeze(x).shape)"
   ]
  },
  {
   "cell_type": "markdown",
   "metadata": {},
   "source": [
    "- Find the number of occurrences of a sequence in a NumPy array"
   ]
  },
  {
   "cell_type": "code",
   "execution_count": 9,
   "metadata": {},
   "outputs": [
    {
     "name": "stdout",
     "output_type": "stream",
     "text": [
      "[[1 3 9 4]\n",
      " [1 3 1 3]\n",
      " [2 5 9 3]\n",
      " [3 1 3 3]]\n",
      "Os valores  9  e  4  ocorrem  4  vezes\n"
     ]
    }
   ],
   "source": [
    "#arr = np.random.randint(1, high=20, size=15)\n",
    "arr =  np.array([[1, 3, 9, 4], \n",
    "      [1, 3, 1, 3],\n",
    "      [2, 5, 9, 3],\n",
    "      [3, 1, 3, 3]])\n",
    "print(arr)\n",
    "output = repr(arr).count(\"1, 3\")\n",
    "print(\"Os valores \", 9, \" e \", 4, \" ocorrem \", output, \" vezes\")"
   ]
  },
  {
   "cell_type": "markdown",
   "metadata": {},
   "source": [
    "- Find the most frequent value in a NumPy array\n"
   ]
  },
  {
   "cell_type": "code",
   "execution_count": 10,
   "metadata": {},
   "outputs": [
    {
     "name": "stdout",
     "output_type": "stream",
     "text": [
      "[ 7 16 14  3  5  6  3  2  8  4  3  1  6 13  3  7  5  8  8 18 17  8  3  8\n",
      "  3 10  5  4  6  9 18 14 11 17  1 13 18  1  9 15 19  1  5 12  3  2 12  5\n",
      " 15 10]\n",
      "\n",
      "\n",
      "Número mais frequente 3\n"
     ]
    }
   ],
   "source": [
    "arr = np.random.randint(1, high=20, size=50)\n",
    "print(arr)\n",
    "print(\"\\n\")\n",
    "print(\"Número mais frequente\",np.bincount(arr).argmax())"
   ]
  },
  {
   "cell_type": "markdown",
   "metadata": {},
   "source": [
    "- Combining a one and a two-dimensional NumPy Array"
   ]
  },
  {
   "cell_type": "code",
   "execution_count": 11,
   "metadata": {},
   "outputs": [
    {
     "name": "stdout",
     "output_type": "stream",
     "text": [
      "1 dimensão:\n",
      "[0 1 2 3 4]\n",
      "\n",
      "Duas dimensões:\n",
      "[[0 1 2 3 4]\n",
      " [5 6 7 8 9]]\n",
      "0:0\n",
      "1:1\n",
      "2:2\n",
      "3:3\n",
      "4:4\n",
      "0:5\n",
      "1:6\n",
      "2:7\n",
      "3:8\n",
      "4:9\n"
     ]
    }
   ],
   "source": [
    "num_1d = np.arange(5)\n",
    "print(\"1 dimensão:\")\n",
    "print(num_1d)\n",
    "  \n",
    "num_2d = np.arange(10).reshape(2,5)\n",
    "print(\"\\nDuas dimensões:\")\n",
    "print(num_2d)\n",
    "  \n",
    "# Combina os dois arrays\n",
    "# e seus elementos numpy.nditer() \n",
    "for a, b in np.nditer([num_1d, num_2d]):\n",
    "    print(\"%d:%d\" % (a, b),)"
   ]
  },
  {
   "cell_type": "markdown",
   "metadata": {},
   "source": [
    "- How to add a border around a NumPy array?"
   ]
  },
  {
   "cell_type": "code",
   "execution_count": 12,
   "metadata": {},
   "outputs": [
    {
     "name": "stdout",
     "output_type": "stream",
     "text": [
      "\n",
      "Merge nos dois arrays:\n",
      "[[1 4 1 8]\n",
      " [2 4 2 8]]\n"
     ]
    }
   ],
   "source": [
    "array_1 = np.array([1, 2])\n",
    "array_2 = np.array([4, 8])\n",
    "  \n",
    "# Combinando ambos os arrays\n",
    "merge_array = np.array(np.meshgrid(array_1, array_2)).T.reshape(-1, 4)\n",
    "  \n",
    "print(\"\\nMerge nos dois arrays:\")\n",
    "print(merge_array)"
   ]
  },
  {
   "cell_type": "markdown",
   "metadata": {},
   "source": [
    "- How to add a border around a NumPy array?"
   ]
  },
  {
   "cell_type": "code",
   "execution_count": 13,
   "metadata": {},
   "outputs": [
    {
     "name": "stdout",
     "output_type": "stream",
     "text": [
      "False\n"
     ]
    }
   ],
   "source": [
    "print(np.array_equal(array_1, array_2))"
   ]
  },
  {
   "cell_type": "markdown",
   "metadata": {},
   "source": [
    "- How to check whether specified values are present in NumPy array?"
   ]
  },
  {
   "cell_type": "code",
   "execution_count": 14,
   "metadata": {},
   "outputs": [
    {
     "name": "stdout",
     "output_type": "stream",
     "text": [
      "True\n"
     ]
    }
   ],
   "source": [
    "print(2 in array_1)"
   ]
  },
  {
   "cell_type": "markdown",
   "metadata": {},
   "source": [
    "- How to get all 2D diagonals of a 3D NumPy array?\n"
   ]
  },
  {
   "cell_type": "code",
   "execution_count": 15,
   "metadata": {},
   "outputs": [
    {
     "name": "stdout",
     "output_type": "stream",
     "text": [
      "Array 3D original:\n",
      " [[[ 0  1  2  3]\n",
      "  [ 4  5  6  7]\n",
      "  [ 8  9 10 11]]\n",
      "\n",
      " [[12 13 14 15]\n",
      "  [16 17 18 19]\n",
      "  [20 21 22 23]]\n",
      "\n",
      " [[24 25 26 27]\n",
      "  [28 29 30 31]\n",
      "  [32 33 34 35]]]\n",
      "Diagonal do array em 2D:\n",
      " [[ 0  5 10]\n",
      " [12 17 22]\n",
      " [24 29 34]]\n"
     ]
    }
   ],
   "source": [
    "arr = np.arange(3 * 3 * 4).reshape(3, 3, 4)\n",
    "  \n",
    "print(\"Array 3D original:\\n\", arr)\n",
    "  \n",
    "# Criando o array 2D diagona\n",
    "diag_arr = np.diagonal(arr, axis1 = 1, axis2 = 2)\n",
    "  \n",
    "print(\"Diagonal do array em 2D:\\n\", diag_arr)"
   ]
  },
  {
   "cell_type": "markdown",
   "metadata": {},
   "source": [
    "- Flatten a Matrix in Python using NumPy\n"
   ]
  },
  {
   "cell_type": "code",
   "execution_count": 16,
   "metadata": {},
   "outputs": [
    {
     "name": "stdout",
     "output_type": "stream",
     "text": [
      "Matriz original:\n",
      "[[1 1 2]\n",
      " [1 1 2]\n",
      " [1 1 2]]\n",
      "\n",
      "Matriz flatten:\n",
      "[1 1 2 1 1 2 1 1 2]\n"
     ]
    }
   ],
   "source": [
    "matrix = np.full((3,3),[1,1,2])\n",
    "print(\"Matriz original:\")\n",
    "print(matrix)\n",
    "print(\"\\nMatriz flatten:\")\n",
    "print(matrix.flatten())"
   ]
  },
  {
   "cell_type": "markdown",
   "metadata": {},
   "source": [
    "- Flatten a 2d numpy array into 1d array"
   ]
  },
  {
   "cell_type": "code",
   "execution_count": 17,
   "metadata": {},
   "outputs": [
    {
     "name": "stdout",
     "output_type": "stream",
     "text": [
      "Matriz original:\n",
      "[[1 2]\n",
      " [1 2]]\n",
      "\n",
      "\n",
      "Array 1D:\n",
      "[1 2 1 2]\n"
     ]
    }
   ],
   "source": [
    "array_2d = np.full((2,2), [1,2])\n",
    "print(\"Matriz original:\")\n",
    "print(array_2d)\n",
    "array_1d = array_2d.flatten()\n",
    "print(\"\\n\")\n",
    "print(\"Array 1D:\")\n",
    "print(array_1d)"
   ]
  },
  {
   "cell_type": "markdown",
   "metadata": {},
   "source": [
    "- Move axes of an array to new positions"
   ]
  },
  {
   "cell_type": "code",
   "execution_count": 18,
   "metadata": {},
   "outputs": [
    {
     "name": "stdout",
     "output_type": "stream",
     "text": [
      "Antes:\n",
      "[[[[0. 0. 0.]\n",
      "   [0. 0. 0.]]]]\n",
      "\n",
      "Depois:\n",
      "(1, 2, 3, 1)\n"
     ]
    }
   ],
   "source": [
    "arr = np.zeros((1, 1, 2, 3))\n",
    "  \n",
    "mv_axes = np.moveaxis(arr, 0, -1).shape\n",
    "print(\"Antes:\")\n",
    "print(arr)\n",
    "print(\"\\nDepois:\")\n",
    "print (mv_axes)"
   ]
  },
  {
   "cell_type": "markdown",
   "metadata": {},
   "source": [
    "- Interchange two axes of an array"
   ]
  },
  {
   "cell_type": "code",
   "execution_count": 19,
   "metadata": {},
   "outputs": [
    {
     "name": "stdout",
     "output_type": "stream",
     "text": [
      "[[1 1]\n",
      " [2 5]]\n",
      "\n",
      "\n",
      "[[1 2]\n",
      " [1 5]]\n"
     ]
    }
   ],
   "source": [
    "arr = np.array([[1,1], [2,5]])\n",
    "print(arr)\n",
    "print(\"\\n\")\n",
    "print(np.swapaxes(arr, 0, 1))"
   ]
  },
  {
   "cell_type": "markdown",
   "metadata": {},
   "source": [
    "- NumPy – Fibonacci Series using Binet Formula"
   ]
  },
  {
   "cell_type": "code",
   "execution_count": 20,
   "metadata": {},
   "outputs": [
    {
     "name": "stdout",
     "output_type": "stream",
     "text": [
      "Os primeiros 10 numeros da série Fibonacci são [ 1.  1.  2.  3.  5.  8. 13. 21. 34. 55.] \n"
     ]
    }
   ],
   "source": [
    "# Referência: https://www.geeksforgeeks.org/numpy-fibonacci-series-using-binet-formula/\n",
    "def fibb_binet_formula(qtde):\n",
    "    arr = np.arange(1, qtde+1)\n",
    "    size_arr = len(arr)\n",
    "  \n",
    "    # Dividindo os termos\n",
    "    sqrt_five = np.sqrt(5)\n",
    "    alpha = (1 + sqrt_five) / 2\n",
    "    beta = (1 - sqrt_five) / 2\n",
    "  \n",
    "    # Implementando a fórmula\n",
    "    # np.rint é usado para arredondar\n",
    "    Fn = np.rint(((alpha ** arr) - (beta ** arr)) / (sqrt_five))\n",
    "    #Fn = round(Fn,2)\n",
    "    print(\"Os primeiros {} numeros da série Fibonacci são {} \".format(size_arr, Fn))\n",
    "\n",
    "fibb_binet_formula(10)"
   ]
  },
  {
   "cell_type": "markdown",
   "metadata": {},
   "source": [
    "- Counts the number of non-zero values in the array\n"
   ]
  },
  {
   "cell_type": "code",
   "execution_count": 21,
   "metadata": {},
   "outputs": [
    {
     "name": "stdout",
     "output_type": "stream",
     "text": [
      "[3 7 7 0 8 8 6 5 4 8 1 8 9 2 7 0 0 1 5 9 2 6 3 7 6 3 8 9 9 8]\n",
      "\n",
      "\n",
      "27\n"
     ]
    }
   ],
   "source": [
    "arr = np.random.randint(0, high=10, size=30)\n",
    "qtde_zeros = np.count_nonzero(arr)\n",
    "print(arr)\n",
    "print(\"\\n\")\n",
    "print(qtde_zeros)"
   ]
  },
  {
   "cell_type": "markdown",
   "metadata": {},
   "source": [
    "- Count the number of elements along a given axis\n"
   ]
  },
  {
   "cell_type": "code",
   "execution_count": 22,
   "metadata": {},
   "outputs": [
    {
     "name": "stdout",
     "output_type": "stream",
     "text": [
      "30\n"
     ]
    }
   ],
   "source": [
    "print(np.size(arr))"
   ]
  },
  {
   "cell_type": "markdown",
   "metadata": {},
   "source": [
    "- Trim the leading and/or trailing zeros from a 1-D array\n"
   ]
  },
  {
   "cell_type": "code",
   "execution_count": 23,
   "metadata": {},
   "outputs": [
    {
     "name": "stdout",
     "output_type": "stream",
     "text": [
      "Com zeros 'cortados' à esquerda e à direita:\n",
      "[ 1  5  7  0  6  2  9  0 10]\n"
     ]
    }
   ],
   "source": [
    "arr = np.array((0, 0, 0, 0, 1, 5, 7, 0, 6, 2, 9, 0, 10, 0, 0))\n",
    "print(\"Com zeros 'cortados' à esquerda e à direita:\")\n",
    "print(np.trim_zeros(arr))"
   ]
  },
  {
   "cell_type": "markdown",
   "metadata": {},
   "source": [
    "- Change data type of given numpy array\n"
   ]
  },
  {
   "cell_type": "code",
   "execution_count": 24,
   "metadata": {},
   "outputs": [
    {
     "name": "stdout",
     "output_type": "stream",
     "text": [
      "int64\n",
      "Depois\n",
      "[ 0.  0.  0.  0.  1.  5.  7.  0.  6.  2.  9.  0. 10.  0.  0.]\n"
     ]
    }
   ],
   "source": [
    "print(arr.dtype)\n",
    "print(\"Depois\")\n",
    "print(arr.astype('float64'))"
   ]
  },
  {
   "cell_type": "markdown",
   "metadata": {},
   "source": [
    "- Reverse a numpy array\n"
   ]
  },
  {
   "cell_type": "code",
   "execution_count": 25,
   "metadata": {},
   "outputs": [
    {
     "name": "stdout",
     "output_type": "stream",
     "text": [
      "Antes:\n",
      "[[[0 1]\n",
      "  [2 3]]\n",
      "\n",
      " [[4 5]\n",
      "  [6 7]]]\n",
      "\n",
      "\n",
      "Depois:\n",
      "[[[4 5]\n",
      "  [6 7]]\n",
      "\n",
      " [[0 1]\n",
      "  [2 3]]]\n"
     ]
    }
   ],
   "source": [
    "A = np.arange(8).reshape((2,2,2))\n",
    "print(\"Antes:\")\n",
    "print(A)\n",
    "print(\"\\n\")\n",
    "print(\"Depois:\")\n",
    "arr = res = A[::-1]\n",
    "print(arr)"
   ]
  },
  {
   "cell_type": "markdown",
   "metadata": {},
   "source": [
    "- How to make a NumPy array read-only?\n"
   ]
  },
  {
   "cell_type": "code",
   "execution_count": 26,
   "metadata": {},
   "outputs": [
    {
     "name": "stdout",
     "output_type": "stream",
     "text": [
      "Antes da mudança:\n",
      "[0. 0. 0. 0. 0. 0. 0. 0. 0. 0. 0.]\n",
      "\n",
      "\n",
      "Depois da primeira mudança:\n",
      "[0. 2. 0. 0. 0. 0. 0. 0. 0. 0. 0.]\n",
      "\n",
      "\n",
      "Impedindo de escrever\n"
     ]
    },
    {
     "ename": "ValueError",
     "evalue": "assignment destination is read-only",
     "output_type": "error",
     "traceback": [
      "\u001b[0;31m---------------------------------------------------------------------------\u001b[0m",
      "\u001b[0;31mValueError\u001b[0m                                Traceback (most recent call last)",
      "\u001b[0;32m<ipython-input-26-dc31e0eb0f67>\u001b[0m in \u001b[0;36m<module>\u001b[0;34m\u001b[0m\n\u001b[1;32m      9\u001b[0m \u001b[0ma\u001b[0m\u001b[0;34m.\u001b[0m\u001b[0mflags\u001b[0m\u001b[0;34m.\u001b[0m\u001b[0mwriteable\u001b[0m \u001b[0;34m=\u001b[0m \u001b[0;32mFalse\u001b[0m\u001b[0;34m\u001b[0m\u001b[0;34m\u001b[0m\u001b[0m\n\u001b[1;32m     10\u001b[0m \u001b[0mprint\u001b[0m\u001b[0;34m(\u001b[0m\u001b[0;34m\"Impedindo de escrever\"\u001b[0m\u001b[0;34m)\u001b[0m\u001b[0;34m\u001b[0m\u001b[0;34m\u001b[0m\u001b[0m\n\u001b[0;32m---> 11\u001b[0;31m \u001b[0ma\u001b[0m\u001b[0;34m[\u001b[0m\u001b[0;36m1\u001b[0m\u001b[0;34m]\u001b[0m \u001b[0;34m=\u001b[0m \u001b[0;36m7\u001b[0m\u001b[0;34m\u001b[0m\u001b[0;34m\u001b[0m\u001b[0m\n\u001b[0m",
      "\u001b[0;31mValueError\u001b[0m: assignment destination is read-only"
     ]
    }
   ],
   "source": [
    "a = np.zeros(11)\n",
    "print(\"Antes da mudança:\")\n",
    "print(a)\n",
    "print(\"\\n\")\n",
    "a[1] = 2\n",
    "print(\"Depois da primeira mudança:\")\n",
    "print(a)\n",
    "print(\"\\n\")\n",
    "a.flags.writeable = False\n",
    "print(\"Impedindo de escrever\")\n",
    "a[1] = 7"
   ]
  },
  {
   "cell_type": "markdown",
   "metadata": {},
   "source": [
    "# Questions on NumPy Matrix\n",
    "\n",
    "- Get the maximum value from given matrix"
   ]
  },
  {
   "cell_type": "code",
   "execution_count": 27,
   "metadata": {},
   "outputs": [
    {
     "name": "stdout",
     "output_type": "stream",
     "text": [
      "11\n"
     ]
    }
   ],
   "source": [
    "x = np.matrix(np.arange(12).reshape((3,4))); x\n",
    "print(x.max())"
   ]
  },
  {
   "cell_type": "markdown",
   "metadata": {},
   "source": [
    "- Get the minimum value from given matrix\n"
   ]
  },
  {
   "cell_type": "code",
   "execution_count": 28,
   "metadata": {},
   "outputs": [
    {
     "name": "stdout",
     "output_type": "stream",
     "text": [
      "0\n"
     ]
    }
   ],
   "source": [
    "print(x.min())"
   ]
  },
  {
   "cell_type": "markdown",
   "metadata": {},
   "source": [
    "- Find the number of rows and columns of a given matrix using NumPy\n"
   ]
  },
  {
   "cell_type": "code",
   "execution_count": 29,
   "metadata": {},
   "outputs": [
    {
     "name": "stdout",
     "output_type": "stream",
     "text": [
      "(3, 4)\n"
     ]
    }
   ],
   "source": [
    "print(x.shape)"
   ]
  },
  {
   "cell_type": "markdown",
   "metadata": {},
   "source": [
    "- Select the elements from a given matrix\n"
   ]
  },
  {
   "cell_type": "code",
   "execution_count": 30,
   "metadata": {},
   "outputs": [
    {
     "name": "stdout",
     "output_type": "stream",
     "text": [
      "[[4 1 6 3]]\n"
     ]
    }
   ],
   "source": [
    "value = np.choose([1, 0, 1, 0], x)\n",
    "print(value)"
   ]
  },
  {
   "cell_type": "markdown",
   "metadata": {},
   "source": [
    "- Find the sum of values in a matrix\n"
   ]
  },
  {
   "cell_type": "code",
   "execution_count": 31,
   "metadata": {},
   "outputs": [
    {
     "name": "stdout",
     "output_type": "stream",
     "text": [
      "66\n"
     ]
    }
   ],
   "source": [
    "print(x.sum())"
   ]
  },
  {
   "cell_type": "code",
   "execution_count": 32,
   "metadata": {},
   "outputs": [
    {
     "name": "stdout",
     "output_type": "stream",
     "text": [
      "[[15]]\n"
     ]
    }
   ],
   "source": [
    "# Soma da diagonal principal\n",
    "print(x.trace())"
   ]
  },
  {
   "cell_type": "markdown",
   "metadata": {},
   "source": [
    "- Adding and Subtracting Matrices in Python\n"
   ]
  },
  {
   "cell_type": "code",
   "execution_count": 33,
   "metadata": {},
   "outputs": [
    {
     "name": "stdout",
     "output_type": "stream",
     "text": [
      "Soma:\n",
      "[[ 5  7]\n",
      " [ 9 11]]\n",
      "\n",
      "\n",
      "Subtração:\n",
      "[[-3 -3]\n",
      " [-3 -3]]\n"
     ]
    }
   ],
   "source": [
    "# Matriz A\n",
    "A = np.array([[1, 2], [3, 4]])\n",
    "  \n",
    "# Matriz B\n",
    "B = np.array([[4, 5], [6, 7]])\n",
    "\n",
    "print(\"Soma:\")\n",
    "print(np.add(A,B))\n",
    "print(\"\\n\")\n",
    "print(\"Subtração:\")\n",
    "print(np.subtract(A,B))"
   ]
  },
  {
   "cell_type": "markdown",
   "metadata": {},
   "source": [
    "- Ways to add row/columns in numpy array\n"
   ]
  },
  {
   "cell_type": "code",
   "execution_count": 34,
   "metadata": {},
   "outputs": [
    {
     "name": "stdout",
     "output_type": "stream",
     "text": [
      "[[1 2]\n",
      " [3 4]]\n",
      "\n",
      "\n",
      "[[1 2 1]\n",
      " [3 4 2]]\n"
     ]
    }
   ],
   "source": [
    "add_ = np.array([1,2])\n",
    "print(A)\n",
    "result = np.hstack((A, np.atleast_2d(add_).T))\n",
    "print(\"\\n\")\n",
    "print(result)"
   ]
  },
  {
   "cell_type": "markdown",
   "metadata": {},
   "source": [
    "- Matrix Multiplication in NumPy\n"
   ]
  },
  {
   "cell_type": "code",
   "execution_count": 65,
   "metadata": {},
   "outputs": [
    {
     "name": "stdout",
     "output_type": "stream",
     "text": [
      "[[19, 23, 27], [79, 95, 111], [335, 403, 471]]\n"
     ]
    }
   ],
   "source": [
    "def matrix_mul(matrix1,matrix2):\n",
    "    \n",
    "    cols = np.size(matrix1, 0)\n",
    "    rows = np.size(matrix2, 1)\n",
    "      \n",
    "    if cols == rows:\n",
    "        res = [[0 for x in range(cols)] for y in range(rows)] \n",
    "        # Loops\n",
    "        for i in range(len(matrix1)):\n",
    "            for j in range(len(matrix2[0])):\n",
    "                for k in range(len(matrix2)):\n",
    "                    # Resultado\n",
    "                    res[i][j] += matrix1[i][k] * matrix2[k][j]\n",
    "    else:\n",
    "        print(\"Matrizes incompatíveis\")\n",
    "        res[i][j] = 0\n",
    "    \n",
    "    return res\n",
    "\n",
    "# Matriz A\n",
    "A = np.array([[1, 1, 2], [3, 5, 8], [13, 21, 34]])\n",
    "  \n",
    "# Matriz B\n",
    "B = np.array([[1, 2, 3], [4, 5, 6], [7, 8, 9]])\n",
    "\n",
    "res = matrix_mul(A,B)\n",
    "\n",
    "print(res)\n"
   ]
  },
  {
   "cell_type": "markdown",
   "metadata": {},
   "source": [
    "- Get the eigen values of a matrix\n"
   ]
  },
  {
   "cell_type": "code",
   "execution_count": 66,
   "metadata": {},
   "outputs": [
    {
     "name": "stdout",
     "output_type": "stream",
     "text": [
      "Autovalores:\n",
      "[3.96977156e+01 3.02284396e-01 1.35625944e-15]\n",
      "\n",
      "\n",
      "Autovetores:\n",
      "[[ 0.05614208  0.94095293 -0.57735027]\n",
      " [ 0.22892067 -0.28204705 -0.57735027]\n",
      " [ 0.97182477 -0.18723525  0.57735027]]\n"
     ]
    }
   ],
   "source": [
    "from numpy import linalg as LA\n",
    "\n",
    "w, v = np.linalg.eig(A)\n",
    "print(\"Autovalores:\")\n",
    "print(w)\n",
    "print(\"\\n\")\n",
    "print(\"Autovetores:\")\n",
    "print(v)"
   ]
  },
  {
   "cell_type": "markdown",
   "metadata": {},
   "source": [
    "- How to Calculate the determinant of a matrix using NumPy?\n"
   ]
  },
  {
   "cell_type": "code",
   "execution_count": 67,
   "metadata": {},
   "outputs": [
    {
     "name": "stdout",
     "output_type": "stream",
     "text": [
      "1.588472942925218e-15\n"
     ]
    }
   ],
   "source": [
    "print(np.linalg.det(A))"
   ]
  },
  {
   "cell_type": "markdown",
   "metadata": {},
   "source": [
    "- How to inverse a matrix using NumPy\n"
   ]
  },
  {
   "cell_type": "code",
   "execution_count": 68,
   "metadata": {},
   "outputs": [
    {
     "name": "stdout",
     "output_type": "stream",
     "text": [
      "Matriz original:\n",
      "[[ 1  1  2]\n",
      " [ 3  5  8]\n",
      " [13 21 34]]\n",
      "\n",
      "\n",
      "Inversa\n",
      "[[ 1.25907086e+15  5.03628345e+15 -1.25907086e+15]\n",
      " [ 1.25907086e+15  5.03628345e+15 -1.25907086e+15]\n",
      " [-1.25907086e+15 -5.03628345e+15  1.25907086e+15]]\n"
     ]
    }
   ],
   "source": [
    "print(\"Matriz original:\")\n",
    "print(A)\n",
    "print(\"\\n\")\n",
    "print(\"Inversa\")\n",
    "print(np.linalg.inv(A))"
   ]
  },
  {
   "cell_type": "markdown",
   "metadata": {},
   "source": [
    "- How to count the frequency of unique values in NumPy array?\n"
   ]
  },
  {
   "cell_type": "code",
   "execution_count": 69,
   "metadata": {},
   "outputs": [
    {
     "name": "stdout",
     "output_type": "stream",
     "text": [
      "Valores únicos: [ 1  2  3  5  8 13 21 34]\n",
      "\n",
      "\n",
      "Frequência dos valores: [2 1 1 1 1 1 1 1]\n"
     ]
    }
   ],
   "source": [
    "unique, frequency = np.unique(A, return_counts = True)\n",
    "print(\"Valores únicos:\", unique)\n",
    "print(\"\\n\") \n",
    "# Frequencia\n",
    "print(\"Frequência dos valores:\", frequency)"
   ]
  },
  {
   "cell_type": "markdown",
   "metadata": {},
   "source": [
    "- Multiply matrices of complex numbers using NumPy in Python\n"
   ]
  },
  {
   "cell_type": "code",
   "execution_count": 70,
   "metadata": {},
   "outputs": [
    {
     "name": "stdout",
     "output_type": "stream",
     "text": [
      "Matriz A:\n",
      "[2.+3.j 4.+5.j]\n",
      "Matriz B:\n",
      "[8.+7.j 5.+6.j]\n",
      "\n",
      "Produto A*B:\n",
      "(87-11j)\n"
     ]
    }
   ],
   "source": [
    "A_comp = np.array([2+3j, 4+5j])\n",
    "print(\"Matriz A:\")\n",
    "print(A_comp)\n",
    "  \n",
    "B_comp = np.array([8+7j, 5+6j])\n",
    "print(\"Matriz B:\")\n",
    "print(B_comp)\n",
    "  \n",
    "# vector dot product of two matrices\n",
    "C_comp = np.vdot(A_comp, B_comp)\n",
    "print(\"\\nProduto A*B:\")\n",
    "print(C_comp)"
   ]
  },
  {
   "cell_type": "markdown",
   "metadata": {},
   "source": [
    "- Compute the outer product of two given vectors using NumPy in Python\n"
   ]
  },
  {
   "cell_type": "code",
   "execution_count": 71,
   "metadata": {},
   "outputs": [
    {
     "name": "stdout",
     "output_type": "stream",
     "text": [
      "Produto externo entra arr1*arr2:\n",
      "[[12 30]\n",
      " [ 4 10]]\n"
     ]
    }
   ],
   "source": [
    "arr1 = np.array([6,2])\n",
    "arr2 = np.array([2,5])\n",
    "print(\"Produto externo entra arr1*arr2:\")\n",
    "print(np.outer(arr1, arr2))"
   ]
  },
  {
   "cell_type": "markdown",
   "metadata": {},
   "source": [
    "- Calculate inner, outer, and cross products of matrices and vectors using NumPy\n"
   ]
  },
  {
   "cell_type": "code",
   "execution_count": 72,
   "metadata": {},
   "outputs": [
    {
     "name": "stdout",
     "output_type": "stream",
     "text": [
      "Produto interno\n",
      "[[  9  21  33]\n",
      " [ 37  85 133]\n",
      " [157 361 565]]\n",
      "\n",
      "\n",
      "Produto externo\n",
      "[[  1   2   3   4   5   6   7   8   9]\n",
      " [  1   2   3   4   5   6   7   8   9]\n",
      " [  2   4   6   8  10  12  14  16  18]\n",
      " [  3   6   9  12  15  18  21  24  27]\n",
      " [  5  10  15  20  25  30  35  40  45]\n",
      " [  8  16  24  32  40  48  56  64  72]\n",
      " [ 13  26  39  52  65  78  91 104 117]\n",
      " [ 21  42  63  84 105 126 147 168 189]\n",
      " [ 34  68 102 136 170 204 238 272 306]]\n",
      "\n",
      "\n",
      "Produto cruzado\n",
      "[[ -1  -1   1]\n",
      " [-10  14  -5]\n",
      " [-83 121 -43]]\n"
     ]
    }
   ],
   "source": [
    "# Inner\n",
    "print(\"Produto interno\")\n",
    "print(np.inner(A,B))\n",
    "print(\"\\n\")\n",
    "print(\"Produto externo\")\n",
    "print(np.outer(A,B))\n",
    "print(\"\\n\")\n",
    "print(\"Produto cruzado\")\n",
    "print(np.cross(A,B))"
   ]
  },
  {
   "cell_type": "markdown",
   "metadata": {},
   "source": [
    "- Compute the covariance matrix of two given NumPy arrays\n"
   ]
  },
  {
   "cell_type": "code",
   "execution_count": 73,
   "metadata": {},
   "outputs": [
    {
     "name": "stdout",
     "output_type": "stream",
     "text": [
      "Matriz de covariância:\n",
      "[[  0.33333333   1.33333333   5.66666667   0.5          0.5\n",
      "    0.5       ]\n",
      " [  1.33333333   6.33333333  26.66666667   2.5          2.5\n",
      "    2.5       ]\n",
      " [  5.66666667  26.66666667 112.33333333  10.5         10.5\n",
      "   10.5       ]\n",
      " [  0.5          2.5         10.5          1.           1.\n",
      "    1.        ]\n",
      " [  0.5          2.5         10.5          1.           1.\n",
      "    1.        ]\n",
      " [  0.5          2.5         10.5          1.           1.\n",
      "    1.        ]]\n"
     ]
    }
   ],
   "source": [
    "print(\"Matriz de covariância:\")\n",
    "cov_matrix = np.cov(A,B)\n",
    "print(cov_matrix)"
   ]
  },
  {
   "cell_type": "markdown",
   "metadata": {},
   "source": [
    "- Convert covariance matrix to correlation matrix using Python\n"
   ]
  },
  {
   "cell_type": "code",
   "execution_count": 74,
   "metadata": {},
   "outputs": [
    {
     "name": "stdout",
     "output_type": "stream",
     "text": [
      "Matriz de correlação:\n",
      "[[1.         0.99988469 0.99989605 0.99981392 0.99981392 0.99981392]\n",
      " [0.99988469 1.         0.99999971 0.99999157 0.99999157 0.99999157]\n",
      " [0.99989605 0.99999971 1.         0.99998813 0.99998813 0.99998813]\n",
      " [0.99981392 0.99999157 0.99998813 1.         1.         1.        ]\n",
      " [0.99981392 0.99999157 0.99998813 1.         1.         1.        ]\n",
      " [0.99981392 0.99999157 0.99998813 1.         1.         1.        ]]\n"
     ]
    }
   ],
   "source": [
    "cov_to_corr_matrix = np.corrcoef(cov_matrix,rowvar=True)\n",
    "print(\"Matriz de correlação:\")\n",
    "print(cov_to_corr_matrix)"
   ]
  },
  {
   "cell_type": "markdown",
   "metadata": {},
   "source": [
    "- Compute the Kronecker product of two mulitdimension NumPy arrays\n"
   ]
  },
  {
   "cell_type": "code",
   "execution_count": 75,
   "metadata": {},
   "outputs": [
    {
     "name": "stdout",
     "output_type": "stream",
     "text": [
      "Produto de Kronecker:\n",
      "[[  1   2   3   1   2   3   2   4   6]\n",
      " [  4   5   6   4   5   6   8  10  12]\n",
      " [  7   8   9   7   8   9  14  16  18]\n",
      " [  3   6   9   5  10  15   8  16  24]\n",
      " [ 12  15  18  20  25  30  32  40  48]\n",
      " [ 21  24  27  35  40  45  56  64  72]\n",
      " [ 13  26  39  21  42  63  34  68 102]\n",
      " [ 52  65  78  84 105 126 136 170 204]\n",
      " [ 91 104 117 147 168 189 238 272 306]]\n"
     ]
    }
   ],
   "source": [
    "kron_res = np.kron(A,B)\n",
    "print(\"Produto de Kronecker:\")\n",
    "print(kron_res)"
   ]
  },
  {
   "cell_type": "markdown",
   "metadata": {},
   "source": [
    "- Convert the matrix into a list\n"
   ]
  },
  {
   "cell_type": "code",
   "execution_count": 77,
   "metadata": {},
   "outputs": [
    {
     "name": "stdout",
     "output_type": "stream",
     "text": [
      "Matriz A:\n",
      "[[ 1  1  2]\n",
      " [ 3  5  8]\n",
      " [13 21 34]]\n",
      "\n",
      "\n",
      "Lista:\n",
      "[[1, 1, 2], [3, 5, 8], [13, 21, 34]]\n"
     ]
    }
   ],
   "source": [
    "A_list = A.tolist()\n",
    "print(\"Matriz A:\")\n",
    "print(A)\n",
    "print(\"\\n\")\n",
    "print(\"Lista:\")\n",
    "print(A_list)"
   ]
  },
  {
   "cell_type": "markdown",
   "metadata": {},
   "source": [
    "# Questions on NumPy Indexing\n",
    "\n",
    "- Replace NumPy array elements that doesn’t satisfy the given condition\n"
   ]
  },
  {
   "cell_type": "code",
   "execution_count": 83,
   "metadata": {},
   "outputs": [
    {
     "name": "stdout",
     "output_type": "stream",
     "text": [
      "Antes:\n",
      "[4 9 8 4 9 6 3 7 8 8 0 5 9 2 0 6 3 8 0 0 6 3 0 1 8 4 5 4 0 5]\n",
      "Depois\n",
      "[  4 666   8   4 666   6   3   7   8   8   0   5 666   2   0   6   3   8\n",
      "   0   0   6   3   0   1   8   4   5   4   0   5]\n"
     ]
    }
   ],
   "source": [
    "arr1 = np.random.randint(0, high=10, size=30)\n",
    "print(\"Antes:\")\n",
    "print(arr1)\n",
    "arr1[arr1 > 8] = 666\n",
    "print(\"Depois\")\n",
    "print(arr1)"
   ]
  },
  {
   "cell_type": "markdown",
   "metadata": {},
   "source": [
    "- Return the indices of elements where the given condition is satisfied\n"
   ]
  },
  {
   "cell_type": "code",
   "execution_count": 85,
   "metadata": {},
   "outputs": [
    {
     "name": "stdout",
     "output_type": "stream",
     "text": [
      "Antes:\n",
      "[9 8 7 2 0 6 8 9 5 7 4 1 8 8 6 7 9 7 2 1 6 7 2 1 0 4 3 0 6 8]\n",
      "Índices dos elementos de arr1 < 5\n",
      "(array([ 3,  4, 10, 11, 18, 19, 22, 23, 24, 25, 26, 27]),)\n"
     ]
    }
   ],
   "source": [
    "arr1 = np.random.randint(0, high=10, size=30)\n",
    "print(\"Antes:\")\n",
    "print(arr1)\n",
    "arr1_res = np.where(arr1 < 5)\n",
    "print(\"Índices dos elementos de arr1 < 5\")\n",
    "print(arr1_res)"
   ]
  },
  {
   "cell_type": "markdown",
   "metadata": {},
   "source": [
    "- Replace NaN values with average of columns\n"
   ]
  },
  {
   "cell_type": "code",
   "execution_count": 94,
   "metadata": {},
   "outputs": [
    {
     "name": "stdout",
     "output_type": "stream",
     "text": [
      "Array com Nan:\n",
      "[[0.4278405  0.00157043        nan        nan        nan]\n",
      " [       nan        nan        nan        nan 0.01183694]\n",
      " [0.07708161 0.34072702 0.43994795        nan        nan]\n",
      " [       nan 0.29587181 0.30923447 0.18697798 0.27941122]\n",
      " [0.24438713        nan        nan 0.32857517 0.29770032]]\n",
      "\n",
      "Depois de substituir os Nans\n",
      "[[0.4278405  0.00157043 0.37459121 0.25777657 0.19631616]\n",
      " [0.24976975 0.21272309 0.37459121 0.25777657 0.01183694]\n",
      " [0.07708161 0.34072702 0.43994795 0.25777657 0.19631616]\n",
      " [0.24976975 0.29587181 0.30923447 0.18697798 0.27941122]\n",
      " [0.24438713 0.21272309 0.37459121 0.32857517 0.29770032]]\n"
     ]
    }
   ],
   "source": [
    "new_A = np.random.rand(5, 5)\n",
    "new_A[new_A > 0.5] = np.nan\n",
    "print(\"Array com Nan:\")\n",
    "print(new_A)\n",
    "# Media da coluna\n",
    "col_mean = np.nanmean(new_A, axis = 0)\n",
    "\n",
    "idx = np.where(np.isnan(new_A))\n",
    "\n",
    "# replace inds with avg of column\n",
    "new_A[idx] = np.take(col_mean, idx[1])\n",
    "print(\"\\nDepois de substituir os Nans\")\n",
    "print(new_A)"
   ]
  },
  {
   "cell_type": "markdown",
   "metadata": {},
   "source": [
    "- Replace negative value with zero in numpy array\n"
   ]
  },
  {
   "cell_type": "code",
   "execution_count": 175,
   "metadata": {},
   "outputs": [
    {
     "name": "stdout",
     "output_type": "stream",
     "text": [
      "Com valores negativos:\n",
      "[[  8 -10   3 -10   0]\n",
      " [  7  -5   8   4  -5]\n",
      " [ -6  -8   3 -10   4]\n",
      " [ -1   2  -8 -10   0]\n",
      " [  2   9   6  -5   4]]\n",
      "\n",
      "Após trocar valores < 0 por 0:\n",
      "[[8 0 3 0 0]\n",
      " [7 0 8 4 0]\n",
      " [0 0 3 0 4]\n",
      " [0 2 0 0 0]\n",
      " [2 9 6 0 4]]\n"
     ]
    }
   ],
   "source": [
    "new_B = np.random.randint(-10,10, size=(5,5))\n",
    "print(\"Com valores negativos:\")\n",
    "print(new_B)\n",
    "new_B[new_B < 0] = 0\n",
    "print(\"\\nApós trocar valores < 0 por 0:\")\n",
    "print(new_B)"
   ]
  },
  {
   "cell_type": "markdown",
   "metadata": {},
   "source": [
    "- How to get values of an NumPy array at certain index positions?\n"
   ]
  },
  {
   "cell_type": "code",
   "execution_count": 176,
   "metadata": {},
   "outputs": [
    {
     "name": "stdout",
     "output_type": "stream",
     "text": [
      "Posições [1, 3, 5]\n",
      "Valores:\n",
      "[0 1 1]\n"
     ]
    }
   ],
   "source": [
    "idx = [1, 3, 5]\n",
    "print(\"Posições\", idx)\n",
    "print(\"Valores:\")\n",
    "print(arr1[idx])"
   ]
  },
  {
   "cell_type": "code",
   "execution_count": 177,
   "metadata": {},
   "outputs": [
    {
     "name": "stdout",
     "output_type": "stream",
     "text": [
      "Array\n",
      "[0 0 0 1 1 1 2 2 2 3 4 4 5 6 6 6 6 7 7 7 7 7 8 8 8 8 8 9 9 9]\n",
      "\n",
      "Indices:\n",
      "[0 1 2]\n"
     ]
    }
   ],
   "source": [
    "idx = np.where(arr1 == 0)[0]\n",
    "print(\"Array\")\n",
    "print(arr1)\n",
    "print(\"\\nIndices:\")\n",
    "print(idx)"
   ]
  },
  {
   "cell_type": "markdown",
   "metadata": {},
   "source": [
    "- How to Remove columns in Numpy array that contains non-numeric values?"
   ]
  },
  {
   "cell_type": "code",
   "execution_count": 178,
   "metadata": {},
   "outputs": [
    {
     "name": "stdout",
     "output_type": "stream",
     "text": [
      "[[0.34141345 0.7543126  0.56455804 0.09673431        nan]\n",
      " [0.68008429 0.18838529 0.68449441        nan 0.7396559 ]\n",
      " [0.43120761 0.49348592 0.46629417        nan 0.78285306]\n",
      " [0.54698875 0.01461571 0.21107643        nan        nan]\n",
      " [0.35060758        nan 0.50299006 0.24989068        nan]]\n",
      "\n",
      "\n",
      "[[0.34141345 0.56455804]\n",
      " [0.68008429 0.68449441]\n",
      " [0.43120761 0.46629417]\n",
      " [0.54698875 0.21107643]\n",
      " [0.35060758 0.50299006]]\n"
     ]
    }
   ],
   "source": [
    "new_C = np.random.rand(5, 5)\n",
    "new_C[new_C > 0.8] = np.nan\n",
    "print(new_C)\n",
    "print(\"\\n\")\n",
    "print(new_C[:, ~np.isnan(new_C).any(axis=0)])"
   ]
  },
  {
   "cell_type": "markdown",
   "metadata": {},
   "source": [
    "- How to access different rows of a multidimensional NumPy array?\n"
   ]
  },
  {
   "cell_type": "code",
   "execution_count": 179,
   "metadata": {},
   "outputs": [
    {
     "name": "stdout",
     "output_type": "stream",
     "text": [
      "[[8 0 3 0 0]\n",
      " [7 0 8 4 0]\n",
      " [0 0 3 0 4]\n",
      " [0 2 0 0 0]\n",
      " [2 9 6 0 4]]\n",
      "\n",
      "\n",
      "[[8 0 3 0 0]\n",
      " [7 0 8 4 0]]\n"
     ]
    }
   ],
   "source": [
    "print(new_B)\n",
    "print(\"\\n\")\n",
    "print(new_B[[0,1]])"
   ]
  },
  {
   "cell_type": "markdown",
   "metadata": {},
   "source": [
    "- Get row numbers of NumPy array having element larger than X"
   ]
  },
  {
   "cell_type": "code",
   "execution_count": 180,
   "metadata": {},
   "outputs": [
    {
     "name": "stdout",
     "output_type": "stream",
     "text": [
      "[[8 0 3 0 0]\n",
      " [7 0 8 4 0]\n",
      " [0 0 3 0 4]\n",
      " [0 2 0 0 0]\n",
      " [2 9 6 0 4]]\n",
      "\n",
      "Linhas com pelo menos um valor de new_B maior que  5\n",
      "(array([0, 1, 4]),)\n"
     ]
    }
   ],
   "source": [
    "X = 5\n",
    "res_out  = np.where(np.any(new_B > X, axis = 1))\n",
    "print(new_B)\n",
    "print(\"\\nLinhas com pelo menos um valor de new_B maior que \", X)\n",
    "print(res_out)"
   ]
  },
  {
   "cell_type": "markdown",
   "metadata": {},
   "source": [
    "- Get filled the diagonals of NumPy array"
   ]
  },
  {
   "cell_type": "code",
   "execution_count": 181,
   "metadata": {},
   "outputs": [
    {
     "name": "stdout",
     "output_type": "stream",
     "text": [
      "Antes de preencher\n",
      "[[8 0 3 0 0]\n",
      " [7 0 8 4 0]\n",
      " [0 0 3 0 4]\n",
      " [0 2 0 0 0]\n",
      " [2 9 6 0 4]]\n",
      "\n",
      "Após preencher\n",
      "[[666   0   3   0   0]\n",
      " [  7 666   8   4   0]\n",
      " [  0   0 666   0   4]\n",
      " [  0   2   0 666   0]\n",
      " [  2   9   6   0 666]]\n"
     ]
    }
   ],
   "source": [
    "print(\"Antes de preencher\")\n",
    "print(new_B)\n",
    "value = 666\n",
    "np.fill_diagonal(new_B, value)\n",
    "print(\"\\nApós preencher\")\n",
    "print(new_B)"
   ]
  },
  {
   "cell_type": "markdown",
   "metadata": {},
   "source": [
    "- Check elements present in the NumPy array\n"
   ]
  },
  {
   "cell_type": "code",
   "execution_count": 182,
   "metadata": {},
   "outputs": [
    {
     "name": "stdout",
     "output_type": "stream",
     "text": [
      "True\n"
     ]
    }
   ],
   "source": [
    "print(666 in new_B)"
   ]
  },
  {
   "cell_type": "markdown",
   "metadata": {},
   "source": [
    "- Combined array index by index\n"
   ]
  },
  {
   "cell_type": "code",
   "execution_count": 183,
   "metadata": {},
   "outputs": [
    {
     "name": "stdout",
     "output_type": "stream",
     "text": [
      "[[ 0. -1.]\n",
      " [ 1.  0.]\n",
      " [ 0.  0.]]\n"
     ]
    }
   ],
   "source": [
    "def create_matrix(m, n):\n",
    "    rows, cols = m, n\n",
    "  \n",
    "    matrix = np.zeros((rows, cols))\n",
    "  \n",
    "    for i in range(cols):\n",
    "  \n",
    "        for j in range(cols):\n",
    "            # store the value in the matrix\n",
    "            matrix[i][j] = (i-j)*(m-n)\n",
    "  \n",
    "    return matrix\n",
    "  \n",
    "print(create_matrix(3,2))"
   ]
  },
  {
   "cell_type": "markdown",
   "metadata": {},
   "source": [
    "# Questions on NumPy Linear Algebra\n",
    "- Find a matrix or vector norm using NumPy"
   ]
  },
  {
   "cell_type": "code",
   "execution_count": 184,
   "metadata": {},
   "outputs": [
    {
     "name": "stdout",
     "output_type": "stream",
     "text": [
      "1489.3149431869674\n"
     ]
    }
   ],
   "source": [
    "norm_new_B = np.linalg.norm(new_B)\n",
    "print(norm_new_B)"
   ]
  },
  {
   "cell_type": "markdown",
   "metadata": {},
   "source": [
    "- Calculate the QR decomposition of a given matrix using NumPy\n"
   ]
  },
  {
   "cell_type": "code",
   "execution_count": 115,
   "metadata": {},
   "outputs": [
    {
     "name": "stdout",
     "output_type": "stream",
     "text": [
      "new_A\n",
      "[[0.4278405  0.00157043 0.37459121 0.25777657 0.19631616]\n",
      " [0.24976975 0.21272309 0.37459121 0.25777657 0.01183694]\n",
      " [0.07708161 0.34072702 0.43994795 0.25777657 0.19631616]\n",
      " [0.24976975 0.29587181 0.30923447 0.18697798 0.27941122]\n",
      " [0.24438713 0.21272309 0.37459121 0.32857517 0.29770032]]\n",
      "\n",
      "Q e R\n",
      "[[-0.70007715  0.55151711 -0.27295594 -0.28498407  0.2236068 ]\n",
      " [-0.40869925 -0.17647475 -0.04265281  0.00152463 -0.89442719]\n",
      " [-0.12612895 -0.70180681 -0.58782634 -0.30986914  0.2236068 ]\n",
      " [-0.40869925 -0.37214948  0.75737665 -0.2661772   0.2236068 ]\n",
      " [-0.39989164 -0.18345983 -0.0672056   0.86712892  0.2236068 ]] [[-0.61113337 -0.3370035  -0.74700785 -0.52614189 -0.40027838]\n",
      " [ 0.         -0.42493336 -0.35207478 -0.21409632 -0.19019201]\n",
      " [ 0.          0.         -0.16780492 -0.11335374  0.02212205]\n",
      " [ 0.          0.          0.          0.08220155  0.06701041]\n",
      " [ 0.          0.          0.          0.          0.20625404]]\n"
     ]
    }
   ],
   "source": [
    "print(\"new_A\")\n",
    "print(new_A)\n",
    "q, r = np.linalg.qr(new_A)\n",
    "print(\"\\nQ e R\")\n",
    "print(q, r)"
   ]
  },
  {
   "cell_type": "code",
   "execution_count": 116,
   "metadata": {},
   "outputs": [
    {
     "name": "stdout",
     "output_type": "stream",
     "text": [
      "Número da condição de new_A:\n",
      "21.810725735735755\n"
     ]
    }
   ],
   "source": [
    "# Condition number: https://en.wikipedia.org/wiki/Condition_number\n",
    "\n",
    "cond_new_A =  np.linalg.cond(new_A)\n",
    "\n",
    "print(\"Número da condição de new_A:\")\n",
    "print(cond_new_A )"
   ]
  },
  {
   "cell_type": "markdown",
   "metadata": {},
   "source": [
    "- Compute the eigenvalues and right eigenvectors of a given square array using NumPy?\n"
   ]
  },
  {
   "cell_type": "code",
   "execution_count": 117,
   "metadata": {},
   "outputs": [
    {
     "name": "stdout",
     "output_type": "stream",
     "text": [
      "Autovalores:  [ 1.2897785 +0.j         -0.13354861+0.j          0.08467336+0.10359285j\n",
      "  0.08467336-0.10359285j  0.23961323+0.j        ]\n",
      "\n",
      "Autovetores: [[ 0.44567895+0.j         -0.28180707+0.j         -0.39458387-0.40241187j\n",
      "  -0.39458387+0.40241187j  0.68492903+0.j        ]\n",
      " [ 0.37243919+0.j         -0.3997175 +0.j         -0.39924361-0.0169214j\n",
      "  -0.39924361+0.0169214j  -0.10213428+0.j        ]\n",
      " [ 0.44495818+0.j         -0.00459744+0.j          0.58363974+0.j\n",
      "   0.58363974-0.j         -0.63565153+0.j        ]\n",
      " [ 0.45437884+0.j          0.82911319+0.j         -0.26721659+0.22893121j\n",
      "  -0.26721659-0.22893121j  0.23818049+0.j        ]\n",
      " [ 0.50814507+0.j         -0.27085211+0.j          0.1425153 +0.19474675j\n",
      "   0.1425153 -0.19474675j  0.24424987+0.j        ]]\n"
     ]
    }
   ],
   "source": [
    "w, v = np.linalg.eig(new_A)\n",
    "  \n",
    "# printing eigen values\n",
    "print(\"Autovalores: \", w)\n",
    "  \n",
    "# printing eigen vectors\n",
    "print(\"\\nAutovetores:\", v)"
   ]
  },
  {
   "cell_type": "markdown",
   "metadata": {},
   "source": [
    "- Calculate the Euclidean distance using NumPy\n"
   ]
  },
  {
   "cell_type": "code",
   "execution_count": 120,
   "metadata": {},
   "outputs": [
    {
     "name": "stdout",
     "output_type": "stream",
     "text": [
      "[1 2 3] \n",
      " [1 1 1]\n",
      "\n",
      "Distância entre p1 e p2:\n",
      "2.23606797749979\n"
     ]
    }
   ],
   "source": [
    "point1 = np.array((1, 2, 3))\n",
    "point2 = np.array((1, 1, 1))\n",
    " \n",
    "dist_p1p2 = np.linalg.norm(point1 - point2)\n",
    " \n",
    "print(point1, \"\\n\", point2)\n",
    "print(\"\\nDistância entre p1 e p2:\")\n",
    "print(dist_p1p2)"
   ]
  },
  {
   "cell_type": "markdown",
   "metadata": {},
   "source": [
    "# Questions on NumPy Random\n",
    "- Create a Numpy array with random values\n"
   ]
  },
  {
   "cell_type": "code",
   "execution_count": 128,
   "metadata": {},
   "outputs": [
    {
     "name": "stdout",
     "output_type": "stream",
     "text": [
      "[ 9 12 12  6  3 14  8  1  5  0  4  6 14 12 10  0  7 11  9  8]\n"
     ]
    }
   ],
   "source": [
    "arr_random = np.random.randint(0, 15, 20)\n",
    "print(arr_random)"
   ]
  },
  {
   "cell_type": "markdown",
   "metadata": {},
   "source": [
    "- How to choose elements from the list with different probability using NumPy?\n"
   ]
  },
  {
   "cell_type": "code",
   "execution_count": 129,
   "metadata": {},
   "outputs": [
    {
     "name": "stdout",
     "output_type": "stream",
     "text": [
      "6\n"
     ]
    }
   ],
   "source": [
    "number = np.random.choice(arr_random)\n",
    "print(number)"
   ]
  },
  {
   "cell_type": "code",
   "execution_count": 151,
   "metadata": {},
   "outputs": [
    {
     "name": "stdout",
     "output_type": "stream",
     "text": [
      "[ 9 10  3  6  8]\n"
     ]
    }
   ],
   "source": [
    "from numpy.random import choice\n",
    "\n",
    "#prob = np.random.dirichlet(np.ones(20), size=1)\n",
    "#print(prob.reshape(-1,20))\n",
    "random_number_list = choice(arr_random, 5, p=[0.14487654, 0.15782219, \n",
    "                                              0.02979119, 0.00043774, 0.03864141, 0.01216049,\n",
    "                                              0.04732805, 0.01631664, 0.04169517, 0.1343935, \n",
    "                                              0.01839868, 0.04506622, 0.00485375, 0.0208686, \n",
    "                                              0.03245268, 0.00553457, 0.16951433, 0.01122636, \n",
    "                                              0.06282457, 0.00579732])\n",
    "print(random_number_list)"
   ]
  },
  {
   "cell_type": "markdown",
   "metadata": {},
   "source": [
    "- Generate Random Numbers From The Uniform Distribution using NumPy\n"
   ]
  },
  {
   "cell_type": "code",
   "execution_count": 152,
   "metadata": {},
   "outputs": [
    {
     "name": "stdout",
     "output_type": "stream",
     "text": [
      "[0.90523572 0.31565466 0.86321071 0.56407692 0.95053518 0.27464242\n",
      " 0.69704015 0.99971496 0.13757388 0.68141392 0.48869747 0.67329381\n",
      " 0.97298227 0.17515902 0.90350219]\n"
     ]
    }
   ],
   "source": [
    "uniform_numbers = np.random.uniform(size=15)\n",
    "print(uniform_numbers)"
   ]
  },
  {
   "cell_type": "markdown",
   "metadata": {},
   "source": [
    "- Get Random Elements form geometric distribution\n"
   ]
  },
  {
   "cell_type": "code",
   "execution_count": 154,
   "metadata": {},
   "outputs": [
    {
     "name": "stdout",
     "output_type": "stream",
     "text": [
      "[2 4 2 1 1 2 1 3 1 3]\n"
     ]
    }
   ],
   "source": [
    "geo_dist = np.random.geometric(0.5, 10)\n",
    "print(geo_dist)"
   ]
  },
  {
   "cell_type": "markdown",
   "metadata": {},
   "source": [
    "- Get Random elements from Laplace distribution\n"
   ]
  },
  {
   "cell_type": "code",
   "execution_count": 155,
   "metadata": {},
   "outputs": [
    {
     "name": "stdout",
     "output_type": "stream",
     "text": [
      "[ -1.22714817   6.76989229  -9.61595073   7.84569809 -16.89883183\n",
      " -40.58167449   6.1257885  -23.30068964  -7.35687322 -21.6935717 ]\n"
     ]
    }
   ],
   "source": [
    "laplace_dist = np.random.laplace(1.45, 15, 10)\n",
    "print(laplace_dist)"
   ]
  },
  {
   "cell_type": "markdown",
   "metadata": {},
   "source": [
    "- Return a Matrix of random values from a uniform distribution\n"
   ]
  },
  {
   "cell_type": "code",
   "execution_count": 157,
   "metadata": {},
   "outputs": [
    {
     "name": "stdout",
     "output_type": "stream",
     "text": [
      "[[0.2228447  0.44036509 0.00610411]\n",
      " [0.4448556  0.67401124 0.91017502]\n",
      " [0.97461361 0.09042448 0.99729352]]\n"
     ]
    }
   ],
   "source": [
    "import numpy.matlib\n",
    "\n",
    "matrix_uni_dist = np.matlib.rand((3, 3))\n",
    "print(matrix_uni_dist)"
   ]
  },
  {
   "cell_type": "markdown",
   "metadata": {},
   "source": [
    "- Return a Matrix of random values from a Gaussian distribution\n"
   ]
  },
  {
   "cell_type": "code",
   "execution_count": 158,
   "metadata": {},
   "outputs": [
    {
     "name": "stdout",
     "output_type": "stream",
     "text": [
      "[[-0.91658049 -0.94155613  0.15308904]\n",
      " [ 0.8051835   0.34867713  0.87459731]\n",
      " [-1.21901266  0.34282724  0.5007853 ]]\n"
     ]
    }
   ],
   "source": [
    "matrix_gauss_dist = np.matlib.randn((3, 3))\n",
    "print(matrix_gauss_dist)"
   ]
  },
  {
   "cell_type": "markdown",
   "metadata": {},
   "source": [
    "# Questions on NumPy Sorting and Searching\n",
    "- How to get the indices of the sorted array using NumPy in Python?\n"
   ]
  },
  {
   "cell_type": "code",
   "execution_count": 167,
   "metadata": {},
   "outputs": [
    {
     "name": "stdout",
     "output_type": "stream",
     "text": [
      "Array: [0 0 0 1 1 1 2 2 2 3 4 4 5 6 6 6 6 7 7 7 7 7 8 8 8 8 8 9 9 9]\n",
      "\n",
      "Índices [ 0  1  2  3  4  5  6  7  8  9 10 11 12 16 15 14 13 17 18 19 20 21 22 23\n",
      " 24 25 26 27 28 29]\n"
     ]
    }
   ],
   "source": [
    "print(\"Array:\", arr1)\n",
    "idxs = np.argsort(arr1)\n",
    "print(\"\\nÍndices\", idxs)"
   ]
  },
  {
   "cell_type": "markdown",
   "metadata": {},
   "source": [
    "- Finding the k smallest values of a NumPy array\n"
   ]
  },
  {
   "cell_type": "code",
   "execution_count": 168,
   "metadata": {},
   "outputs": [
    {
     "name": "stdout",
     "output_type": "stream",
     "text": [
      "Ordenado: [0 0 0 1 1 1 2 2 2 3 4 4 5 6 6 6 6 7 7 7 7 7 8 8 8 8 8 9 9 9]\n",
      "\n",
      "Os 5 menores: [0 0 0 1 1]\n"
     ]
    }
   ],
   "source": [
    "arr1_sort = np.sort(arr1)\n",
    "print(\"Ordenado:\", arr1_sort)\n",
    "k = 5\n",
    "print(\"\\nOs\", k, \"menores:\", arr1_sort[:k])"
   ]
  },
  {
   "cell_type": "markdown",
   "metadata": {},
   "source": [
    "- How to get the n-largest values of an array using NumPy?\n"
   ]
  },
  {
   "cell_type": "code",
   "execution_count": 169,
   "metadata": {},
   "outputs": [
    {
     "name": "stdout",
     "output_type": "stream",
     "text": [
      "Ordenado DESC: [9 9 9 8 8 8 8 8 7 7 7 7 7 6 6 6 6 5 4 4 3 2 2 2 1 1 1 0 0 0]\n",
      "\n",
      "Os 4 maiores [9 9 9 8]\n"
     ]
    }
   ],
   "source": [
    "arr1_sort_desc = np.sort(arr1)[::-1]\n",
    "print(\"Ordenado DESC:\", arr1_sort_desc)\n",
    "k = 4\n",
    "print(\"\\nOs\", k, \"maiores\", arr1_sort_desc[:k])"
   ]
  },
  {
   "cell_type": "markdown",
   "metadata": {},
   "source": [
    "- Sort the values in a matrix\n"
   ]
  },
  {
   "cell_type": "code",
   "execution_count": 185,
   "metadata": {},
   "outputs": [
    {
     "name": "stdout",
     "output_type": "stream",
     "text": [
      "Antes de ordenar\n",
      " [[666   0   3   0   0]\n",
      " [  7 666   8   4   0]\n",
      " [  0   0 666   0   4]\n",
      " [  0   2   0 666   0]\n",
      " [  2   9   6   0 666]]\n",
      "\n",
      "Depois de ordenar\n",
      " [[  0   0   0   0   0]\n",
      " [  0   0   0   0   0]\n",
      " [  0   2   2   3   4]\n",
      " [  4   6   7   8   9]\n",
      " [666 666 666 666 666]]\n"
     ]
    }
   ],
   "source": [
    "def sort_matrix(matrix):\n",
    "    rows = len(matrix)\n",
    "    cols = len(matrix[0])\n",
    "    temp = [0] * (rows * cols)\n",
    "    k = 0\n",
    " \n",
    "    for i in range(0, rows):\n",
    "        for j in range(0, cols):\n",
    "             \n",
    "            temp[k] = matrix[i][j]\n",
    "            k += 1\n",
    " \n",
    "    temp.sort()\n",
    "    \n",
    "    k = 0\n",
    "     \n",
    "    for i in range(0, rows):\n",
    "        for j in range(0, cols):\n",
    "            matrix[i][j] = temp[k]\n",
    "            k += 1\n",
    "    \n",
    "    return matrix\n",
    "\n",
    "print(\"Antes de ordenar\\n\", new_B)\n",
    "B_sort = sort_matrix(new_B)\n",
    "print(\"\\nDepois de ordenar\\n\", B_sort)"
   ]
  },
  {
   "cell_type": "markdown",
   "metadata": {},
   "source": [
    "- Filter out integers from float numpy array\n"
   ]
  },
  {
   "cell_type": "code",
   "execution_count": 190,
   "metadata": {},
   "outputs": [
    {
     "name": "stdout",
     "output_type": "stream",
     "text": [
      "Int e float\n",
      " [ 1.    1.2   2.2   2.    3.    2.    2.75 15.    3.44  7.5   7.  ]\n",
      "\n",
      "Retirando os floats\n",
      " [1.2  2.2  2.75 3.44 7.5 ]\n"
     ]
    }
   ],
   "source": [
    "mix_arr = np.array([1.0, 1.2, 2.2, 2.0, 3.0, 2.0, 2.75, 15.0, 3.44, 7.5, 7.0])\n",
    "print(\"Int e float\\n\", mix_arr)\n",
    "int_arr = mix_arr[mix_arr != mix_arr.astype(int)]\n",
    "print(\"\\nRetirando os floats\\n\", int_arr)"
   ]
  },
  {
   "cell_type": "markdown",
   "metadata": {},
   "source": [
    "- Find the indices into a sorted array\n"
   ]
  },
  {
   "cell_type": "code",
   "execution_count": 202,
   "metadata": {},
   "outputs": [
    {
     "name": "stdout",
     "output_type": "stream",
     "text": [
      "6\n"
     ]
    }
   ],
   "source": [
    "print(np.searchsorted([1,1,2,3,5,8,13,21,34], 13))"
   ]
  },
  {
   "cell_type": "markdown",
   "metadata": {},
   "source": [
    "# Questions on NumPy Mathematics\n",
    "- How to get element-wise true division of an array using Numpy?\n"
   ]
  },
  {
   "cell_type": "code",
   "execution_count": 206,
   "metadata": {},
   "outputs": [
    {
     "name": "stdout",
     "output_type": "stream",
     "text": [
      "X:\n",
      " [0 1 2 3 4 5 6 7]\n",
      "\n",
      "Depois da divisão (wise-element):\n",
      " [0.         0.33333333 0.66666667 1.         1.33333333 1.66666667\n",
      " 2.         2.33333333]\n"
     ]
    }
   ],
   "source": [
    "x = np.arange(8)\n",
    "  \n",
    "print(\"X:\\n\", x)\n",
    "  \n",
    "rslt = np.true_divide(x, 3)\n",
    "  \n",
    "print(\"\\nDepois da divisão (wise-element):\\n\", rslt)"
   ]
  },
  {
   "cell_type": "markdown",
   "metadata": {},
   "source": [
    "- How to calculate the element-wise absolute value of NumPy array?\n"
   ]
  },
  {
   "cell_type": "code",
   "execution_count": 207,
   "metadata": {},
   "outputs": [
    {
     "name": "stdout",
     "output_type": "stream",
     "text": [
      "\n",
      "Element-wise absolute\n",
      " [0 1 2 3 4 5 6 7]\n"
     ]
    }
   ],
   "source": [
    "el_wise_abs = np.absolute(x)\n",
    "print(\"\\nElement-wise absolute\\n\", el_wise_abs)"
   ]
  },
  {
   "cell_type": "markdown",
   "metadata": {},
   "source": [
    "- Compute the negative of the NumPy array\n"
   ]
  },
  {
   "cell_type": "code",
   "execution_count": 208,
   "metadata": {},
   "outputs": [
    {
     "name": "stdout",
     "output_type": "stream",
     "text": [
      "Arr1\n",
      " [0 0 0 1 1 1 2 2 2 3 4 4 5 6 6 6 6 7 7 7 7 7 8 8 8 8 8 9 9 9]\n",
      "\n",
      "Simétrico\n",
      " [ 0  0  0 -1 -1 -1 -2 -2 -2 -3 -4 -4 -5 -6 -6 -6 -6 -7 -7 -7 -7 -7 -8 -8\n",
      " -8 -8 -8 -9 -9 -9]\n"
     ]
    }
   ],
   "source": [
    "print(\"Arr1\\n\", arr1)\n",
    "neg_arr1 = np.negative(arr1)\n",
    "print(\"\\nSimétrico\\n\", neg_arr1)"
   ]
  },
  {
   "cell_type": "markdown",
   "metadata": {},
   "source": [
    "- Multiply 2d numpy array corresponding to 1d array\n"
   ]
  },
  {
   "cell_type": "code",
   "execution_count": 210,
   "metadata": {},
   "outputs": [
    {
     "name": "stdout",
     "output_type": "stream",
     "text": [
      "Resultado:\n",
      "  [[0 0 0]\n",
      " [2 4 5]\n",
      " [2 4 6]]\n"
     ]
    }
   ],
   "source": [
    "array1 = np.array([[1, 2, 3], [2, 4, 5], [1, 2, 3]])\n",
    "array2 = np.array([0, 1, 2])\n",
    "\n",
    "res_arr1_arr2 = array1 * array2[:, np.newaxis]\n",
    "  \n",
    "print(\"Resultado:\\n \", res_arr1_arr2)"
   ]
  },
  {
   "cell_type": "markdown",
   "metadata": {},
   "source": [
    "- Computes the inner product of two arrays\n"
   ]
  },
  {
   "cell_type": "code",
   "execution_count": 211,
   "metadata": {},
   "outputs": [
    {
     "name": "stdout",
     "output_type": "stream",
     "text": [
      "Array 2\n",
      " [0 1 2]\n",
      "\n",
      "Produto interno\n",
      " 5\n"
     ]
    }
   ],
   "source": [
    "print(\"Array 2\\n\", array2)\n",
    "print(\"\\nProduto interno\\n\", np.dot(array2, array2))"
   ]
  },
  {
   "cell_type": "markdown",
   "metadata": {},
   "source": [
    "- Compute the nth percentile of the NumPy array\n"
   ]
  },
  {
   "cell_type": "code",
   "execution_count": 212,
   "metadata": {},
   "outputs": [
    {
     "name": "stdout",
     "output_type": "stream",
     "text": [
      "Array\n",
      " [ 8  5  6  3 10  4  7  8  8  3  2  1  7  7  1 13 10  3 13  7 11  7 10  3\n",
      "  4  3  2  5  3  7]\n",
      "\n",
      "10º percentil\n",
      " 2.0\n",
      "\n",
      "25º percentil\n",
      " 3.0\n",
      "\n",
      "50º percentil\n",
      " 6.5\n",
      "\n",
      "70º percentil\n",
      " 8.0\n"
     ]
    }
   ],
   "source": [
    "arr_per = np.random.randint(0,15,30)\n",
    "print(\"Array\\n\", arr_per)\n",
    "print(\"\\n10º percentil\\n\", np.percentile(arr_per, 10))\n",
    "print(\"\\n25º percentil\\n\", np.percentile(arr_per, 25))\n",
    "print(\"\\n50º percentil\\n\", np.percentile(arr_per, 50))\n",
    "print(\"\\n70º percentil\\n\", np.percentile(arr_per, 75))"
   ]
  },
  {
   "cell_type": "markdown",
   "metadata": {},
   "source": [
    "- Calculate the n-th order discrete difference along the given axis\n"
   ]
  },
  {
   "cell_type": "code",
   "execution_count": 213,
   "metadata": {},
   "outputs": [
    {
     "name": "stdout",
     "output_type": "stream",
     "text": [
      "Array:\n",
      " [ 8  5  6  3 10  4  7  8  8  3  2  1  7  7  1 13 10  3 13  7 11  7 10  3\n",
      "  4  3  2  5  3  7]\n",
      "\n",
      "Diferença de 1ª ordem:\n",
      " [-3  1 -3  7 -6  3  1  0 -5 -1 -1  6  0 -6 12 -3 -7 10 -6  4 -4  3 -7  1\n",
      " -1 -1  3 -2  4]\n",
      "\n",
      "Diferença de 1ª ordem:\n",
      " [  4  -4  10 -13   9  -2  -1  -5   4   0   7  -6  -6  18 -15  -4  17 -16\n",
      "  10  -8   7 -10   8  -2   0   4  -5   6]\n",
      "\n",
      "Diferença de 1ª ordem:\n",
      " [ -8  14 -23  22 -11   1  -4   9  -4   7 -13   0  24 -33  11  21 -33  26\n",
      " -18  15 -17  18 -10   2   4  -9  11]\n"
     ]
    }
   ],
   "source": [
    "print(\"Array:\\n\", arr_per)\n",
    "print(\"\\nDiferença de 1ª ordem:\\n\", np.diff(arr_per))\n",
    "print(\"\\nDiferença de 1ª ordem:\\n\", np.diff(arr_per, n = 2))\n",
    "print(\"\\nDiferença de 1ª ordem:\\n\", np.diff(arr_per, n = 3))"
   ]
  },
  {
   "cell_type": "markdown",
   "metadata": {},
   "source": [
    "- Calculate the sum of all columns in a 2D NumPy array\n"
   ]
  },
  {
   "cell_type": "code",
   "execution_count": 215,
   "metadata": {},
   "outputs": [
    {
     "name": "stdout",
     "output_type": "stream",
     "text": [
      "new_B\n",
      " [[  0   0   0   0   0]\n",
      " [  0   0   0   0   0]\n",
      " [  0   2   2   3   4]\n",
      " [  4   6   7   8   9]\n",
      " [666 666 666 666 666]]\n",
      "\n",
      "Soma de cada coluna\n",
      " [670, 674, 675, 677, 679]\n"
     ]
    }
   ],
   "source": [
    "def sum_cols_np_2d(arr):\n",
    "    rows = len(arr)\n",
    "    cols = len(arr[0])\n",
    "    res_sum = []\n",
    "    for i in range(rows):\n",
    "        sum_ = 0;\n",
    "        for j in range(cols):\n",
    "            sum_ += arr[j][i]\n",
    "        res_sum.append(sum_)\n",
    "    \n",
    "    return res_sum\n",
    "\n",
    "print(\"new_B\\n\", new_B)\n",
    "\n",
    "print(\"\\nSoma de cada coluna\\n\", sum_cols_np_2d(new_B))"
   ]
  },
  {
   "cell_type": "markdown",
   "metadata": {},
   "source": [
    "- Calculate average values of two given NumPy arrays\n"
   ]
  },
  {
   "cell_type": "code",
   "execution_count": 218,
   "metadata": {},
   "outputs": [
    {
     "name": "stdout",
     "output_type": "stream",
     "text": [
      "m_A\n",
      " [[2 2]\n",
      " [1 0]]\n",
      "\n",
      "m_B\n",
      " [[-2 -2]\n",
      " [-1 -1]]\n",
      "\n",
      "Mean\n",
      " [[ 0.   0. ]\n",
      " [ 0.  -0.5]]\n"
     ]
    }
   ],
   "source": [
    "m_A = np.random.randint(0,3, size=(2,2))\n",
    "m_B = np.random.randint(-3,0, size=(2,2))\n",
    "print(\"m_A\\n\", m_A)\n",
    "print(\"\\nm_B\\n\", m_B)\n",
    "avg = (m_A + m_B)/2\n",
    "print(\"\\nMean\\n\", avg)"
   ]
  },
  {
   "cell_type": "markdown",
   "metadata": {},
   "source": [
    "- How to compute numerical negative value for all elements in a given NumPy array?\n"
   ]
  },
  {
   "cell_type": "code",
   "execution_count": 219,
   "metadata": {},
   "outputs": [
    {
     "name": "stdout",
     "output_type": "stream",
     "text": [
      "\n",
      "m_A\n",
      " [[2 2]\n",
      " [1 0]]\n",
      "\n",
      "Negativo:\n",
      " [[-2 -2]\n",
      " [-1  0]]\n"
     ]
    }
   ],
   "source": [
    "print(\"\\nm_A\\n\", m_A)\n",
    "m_A_neg = np.negative(m_A)\n",
    "print(\"\\nNegativo:\\n\", m_A_neg)"
   ]
  },
  {
   "cell_type": "markdown",
   "metadata": {},
   "source": [
    "- How to get the floor, ceiling and truncated values of the elements of a numpy array?\n"
   ]
  },
  {
   "cell_type": "code",
   "execution_count": 220,
   "metadata": {},
   "outputs": [
    {
     "name": "stdout",
     "output_type": "stream",
     "text": [
      "a\n",
      " [13.48914036  8.60028051 14.95370596 13.53313527 13.31738726  7.46768061\n",
      " 10.58034165 11.28546803  0.23639389  1.37755934 12.54419818  4.41049798\n",
      "  2.8204924   0.05224133 12.90356992  2.54964285  6.78282426 10.22841582\n",
      "  1.81221519  3.00702148  5.17320636 11.78511878  2.04306771  1.17105433\n",
      "  9.61703878]\n",
      "\n",
      " [13.  8. 14. 13. 13.  7. 10. 11.  0.  1. 12.  4.  2.  0. 12.  2.  6. 10.\n",
      "  1.  3.  5. 11.  2.  1.  9.]\n"
     ]
    }
   ],
   "source": [
    "a = np.random.uniform(0, 15, 25)\n",
    "print(\"a\\n\", a)\n",
    "a_floor = np.floor(a)\n",
    "print(\"\\n\", a_floor)"
   ]
  },
  {
   "cell_type": "markdown",
   "metadata": {},
   "source": [
    "- How to round elements of the NumPy array to the nearest integer?\n"
   ]
  },
  {
   "cell_type": "code",
   "execution_count": 221,
   "metadata": {},
   "outputs": [
    {
     "name": "stdout",
     "output_type": "stream",
     "text": [
      "a\n",
      " [13.48914036  8.60028051 14.95370596 13.53313527 13.31738726  7.46768061\n",
      " 10.58034165 11.28546803  0.23639389  1.37755934 12.54419818  4.41049798\n",
      "  2.8204924   0.05224133 12.90356992  2.54964285  6.78282426 10.22841582\n",
      "  1.81221519  3.00702148  5.17320636 11.78511878  2.04306771  1.17105433\n",
      "  9.61703878]\n",
      "\n",
      " [13.  9. 15. 14. 13.  7. 11. 11.  0.  1. 13.  4.  3.  0. 13.  3.  7. 10.\n",
      "  2.  3.  5. 12.  2.  1. 10.]\n"
     ]
    }
   ],
   "source": [
    "print(\"a\\n\", a)\n",
    "a_nearest = np.rint(a)\n",
    "print(\"\\n\", a_nearest)"
   ]
  },
  {
   "cell_type": "markdown",
   "metadata": {},
   "source": [
    "- Find the round off the values of the given matrix\n"
   ]
  },
  {
   "cell_type": "code",
   "execution_count": 222,
   "metadata": {},
   "outputs": [
    {
     "name": "stdout",
     "output_type": "stream",
     "text": [
      "[[4.96381416 1.30632876 4.99250659 1.77724229 3.36005795]\n",
      " [1.89874087 0.55860634 1.06130776 3.68220084 1.51001232]\n",
      " [2.02907945 1.82789793 4.85092405 0.75276686 4.96078649]\n",
      " [0.98092965 2.92642781 0.09751212 3.43953949 2.14998795]\n",
      " [1.50577816 1.44090013 2.27735822 3.12735109 1.10379177]]\n",
      "\n",
      " [[5. 1. 5. 2. 3.]\n",
      " [2. 1. 1. 4. 2.]\n",
      " [2. 2. 5. 1. 5.]\n",
      " [1. 3. 0. 3. 2.]\n",
      " [2. 1. 2. 3. 1.]]\n"
     ]
    }
   ],
   "source": [
    "m_round = np.random.uniform(0,5, size=(5,5))\n",
    "print(m_round)\n",
    "print(\"\\n\", m_round.round())"
   ]
  },
  {
   "cell_type": "markdown",
   "metadata": {},
   "source": [
    "- Determine the positive square-root of an array\n"
   ]
  },
  {
   "cell_type": "code",
   "execution_count": 224,
   "metadata": {},
   "outputs": [
    {
     "name": "stdout",
     "output_type": "stream",
     "text": [
      "[4 0 2 4 2 4 2 1 3 1]\n",
      "\n",
      " [2.         0.         1.41421356 2.         1.41421356 2.\n",
      " 1.41421356 1.         1.73205081 1.        ]\n"
     ]
    }
   ],
   "source": [
    "arr_sqrt = np.random.randint(0,5,10)\n",
    "print(arr_sqrt)\n",
    "print(\"\\n\", np.sqrt(arr_sqrt))"
   ]
  },
  {
   "cell_type": "markdown",
   "metadata": {},
   "source": [
    "- Evaluate Einstein’s summation convention of two multidimensional NumPy arrays\n"
   ]
  },
  {
   "cell_type": "code",
   "execution_count": 227,
   "metadata": {},
   "outputs": [
    {
     "name": "stdout",
     "output_type": "stream",
     "text": [
      "Matrizes originais:\n",
      "\n",
      "[[1.48979807 4.18208388 3.63658464]\n",
      " [1.86117879 3.23498756 4.33175757]\n",
      " [2.74230539 1.52105963 0.60458516]] \n",
      "\n",
      "[[1.64193097 2.36091399 0.8855078 ]\n",
      " [1.67263709 3.46632587 2.02252211]\n",
      " [0.94577883 0.30446245 1.34969942]] \n",
      "\n",
      "Soma de Einstein:\n",
      " [[12.88065893 19.12095412 14.6858811 ]\n",
      " [12.56377186 16.92646167 14.03749289]\n",
      " [ 7.61866074 11.93090901  6.32071778]]\n"
     ]
    }
   ],
   "source": [
    "a_ein = np.random.uniform(0,5, size=(3,3))\n",
    "b_ein = np.random.uniform(0,5, size=(3,3))\n",
    "print(\"Matrizes originais:\\n\")\n",
    "print(a_ein,\"\\n\")\n",
    "print(b_ein,\"\\n\")\n",
    "res_ein = np.einsum(\"mk,kn\", a_ein, b_ein)\n",
    "print(\"Soma de Einstein:\\n\", res_ein)"
   ]
  },
  {
   "cell_type": "markdown",
   "metadata": {},
   "source": [
    "# Questions on NumPy Statistics\n",
    "- Compute the median of the flattened NumPy array\n"
   ]
  },
  {
   "cell_type": "code",
   "execution_count": 229,
   "metadata": {},
   "outputs": [
    {
     "name": "stdout",
     "output_type": "stream",
     "text": [
      "[3 0 1 3 3 3 2 2 1 0 4 3 3 1 1]\n",
      "\n",
      " 2.0\n"
     ]
    }
   ],
   "source": [
    "arr_odd = np.random.randint(0,5,15)\n",
    "print(arr_odd)\n",
    "med_odd = np.median(arr_odd)\n",
    "print(\"\\n\", med_odd)"
   ]
  },
  {
   "cell_type": "markdown",
   "metadata": {},
   "source": [
    "- Find Mean of a List of Numpy Array\n"
   ]
  },
  {
   "cell_type": "code",
   "execution_count": 230,
   "metadata": {},
   "outputs": [
    {
     "name": "stdout",
     "output_type": "stream",
     "text": [
      "[12.0, 15.0, 18.0]\n"
     ]
    }
   ],
   "source": [
    "input = [np.array([11, 12, 13]),\n",
    "         np.array([14, 15, 16]),\n",
    "         np.array([17, 18, 19])]\n",
    "  \n",
    "\n",
    "output = []\n",
    "  \n",
    "for i in range(len(input)):\n",
    "   output.append(np.average(input[i]))\n",
    "  \n",
    "\n",
    "print(output)"
   ]
  },
  {
   "cell_type": "markdown",
   "metadata": {},
   "source": [
    "- Calculate the mean of array ignoring the NaN value\n"
   ]
  },
  {
   "cell_type": "code",
   "execution_count": 231,
   "metadata": {},
   "outputs": [
    {
     "name": "stdout",
     "output_type": "stream",
     "text": [
      "26.75\n"
     ]
    }
   ],
   "source": [
    "arr = np.array([[20, 15, 37, 35, 45], [47, 13, np.nan, 2, np.nan]])\n",
    "print(np.nanmean(arr))"
   ]
  },
  {
   "cell_type": "markdown",
   "metadata": {},
   "source": [
    "- Get the mean value from given matrix\n"
   ]
  },
  {
   "cell_type": "code",
   "execution_count": 235,
   "metadata": {},
   "outputs": [
    {
     "name": "stdout",
     "output_type": "stream",
     "text": [
      "[[1.48979807 4.18208388 3.63658464]\n",
      " [1.86117879 3.23498756 4.33175757]\n",
      " [2.74230539 1.52105963 0.60458516]]\n",
      "Media\n",
      " 2.6227045203285386\n"
     ]
    }
   ],
   "source": [
    "def mean_matrix(m):\n",
    "    rows = len(m) \n",
    "    cols = len(m[0])\n",
    "    sum_ = 0\n",
    "    \n",
    "    for i in range(rows):\n",
    "        for j in range(cols):\n",
    "            sum_ += m[i][j]\n",
    "     \n",
    "    return sum_/(rows*cols)\n",
    "\n",
    "res_mean = mean_matrix(a_ein)\n",
    "print(a_ein)\n",
    "print(\"Media\\n\", res_mean)"
   ]
  },
  {
   "cell_type": "markdown",
   "metadata": {},
   "source": [
    "- Compute the variance of the NumPy array\n"
   ]
  },
  {
   "cell_type": "code",
   "execution_count": 239,
   "metadata": {},
   "outputs": [
    {
     "name": "stdout",
     "output_type": "stream",
     "text": [
      "[2 4 2 3 3 4 1 4 1 3 1 4 3 0 3]\n",
      "Variância\n",
      " 1.5822\n"
     ]
    }
   ],
   "source": [
    "arr_var = np.random.randint(0,5,15)\n",
    "print(arr_var)\n",
    "var_ = np.var(arr_var)\n",
    "print(\"Variância\\n\", round(var_, 4))"
   ]
  },
  {
   "cell_type": "markdown",
   "metadata": {},
   "source": [
    "- Compute the standard deviation of the NumPy array\n"
   ]
  },
  {
   "cell_type": "code",
   "execution_count": 240,
   "metadata": {},
   "outputs": [
    {
     "name": "stdout",
     "output_type": "stream",
     "text": [
      "Desvio padrão\n",
      " 1.2579\n"
     ]
    }
   ],
   "source": [
    "std_ = np.std(arr_var, dtype = np.float64)\n",
    "print(\"Desvio padrão\\n\", round(std_, 4))"
   ]
  },
  {
   "cell_type": "markdown",
   "metadata": {},
   "source": [
    "- Compute pearson product-moment correlation coefficients of two given NumPy arrays\n"
   ]
  },
  {
   "cell_type": "code",
   "execution_count": 241,
   "metadata": {},
   "outputs": [
    {
     "name": "stdout",
     "output_type": "stream",
     "text": [
      "[0.         0.33333333 0.66666667 1.         1.33333333 1.66666667\n",
      " 2.         2.33333333]\n"
     ]
    }
   ],
   "source": [
    "x = np.random.randint(0,10,20)\n",
    "y = np.random.randint(0,5,20)\n",
    "rslt_corr = np.corrcoef(x, y)\n",
    "print(rslt)"
   ]
  },
  {
   "cell_type": "markdown",
   "metadata": {},
   "source": [
    "- Calculate the mean across dimension in a 2D NumPy array\n"
   ]
  },
  {
   "cell_type": "code",
   "execution_count": 242,
   "metadata": {},
   "outputs": [
    {
     "name": "stdout",
     "output_type": "stream",
     "text": [
      "Matriz\n",
      " [[9 6 1 0 4]\n",
      " [6 8 9 6 2]\n",
      " [7 0 7 1 2]\n",
      " [8 8 3 6 6]\n",
      " [1 7 4 8 2]]\n",
      "\n",
      "Média row 1\n",
      " 4.0\n",
      "\n",
      "Média row 2\n",
      " 6.2\n",
      "\n",
      "Média row 3\n",
      " 3.4\n",
      "\n",
      "Média row 4\n",
      " 6.2\n",
      "\n",
      "Média row 5\n",
      " 4.4\n"
     ]
    }
   ],
   "source": [
    "m_mean_cross = np.random.randint(0,10, size=(5,5))\n",
    "print(\"Matriz\\n\", m_mean_cross)\n",
    "row_mean = np.mean(m_mean_cross, axis=1)\n",
    "print(\"\\nMédia row 1\\n\", row_mean[0])\n",
    "print(\"\\nMédia row 2\\n\", row_mean[1])\n",
    "print(\"\\nMédia row 3\\n\", row_mean[2])\n",
    "print(\"\\nMédia row 4\\n\", row_mean[3])\n",
    "print(\"\\nMédia row 5\\n\", row_mean[4])"
   ]
  },
  {
   "cell_type": "markdown",
   "metadata": {},
   "source": [
    "- Calculate the average, variance and standard deviation in Python using NumPy\n"
   ]
  },
  {
   "cell_type": "code",
   "execution_count": 244,
   "metadata": {},
   "outputs": [
    {
     "name": "stdout",
     "output_type": "stream",
     "text": [
      "\n",
      " [6 4 4 3 0 6 6 0 5 5 4 7 5 3 2 6 7 4 5 9]\n",
      "Média\n",
      " 4.55\n",
      "Variância\n",
      " 4.7475\n",
      "Desvio padrão\n",
      " 2.1788758569500923\n"
     ]
    }
   ],
   "source": [
    "def avg_var_std(arr):\n",
    "    avg_ = np.average(arr)\n",
    "    var_ = np.var(arr)\n",
    "    std_ = np.std(arr, dtype = np.float64)\n",
    "    return avg_, var_, std_\n",
    "\n",
    "print(\"\\n\", x)\n",
    "avg_, var_, std_ = avg_var_std(x)\n",
    "print(\"Média\\n\", avg_)\n",
    "print(\"Variância\\n\", var_)\n",
    "print(\"Desvio padrão\\n\", std_)"
   ]
  },
  {
   "cell_type": "markdown",
   "metadata": {},
   "source": [
    "- Describe a NumPy Array in Python\n"
   ]
  },
  {
   "cell_type": "code",
   "execution_count": 251,
   "metadata": {},
   "outputs": [
    {
     "name": "stdout",
     "output_type": "stream",
     "text": [
      "Descriptive analysis\n",
      "\n",
      "Array = [6 4 4 3 0 6 6 0 5 5 4 7 5 3 2 6 7 4 5 9]\n",
      "\n",
      "Measures of Central Tendency\n",
      "\n",
      "\n",
      "Média: 4.55\n",
      "\n",
      "Mediana: 5.0\n",
      "\n",
      "Measures of Dispersion\n",
      "\n",
      "Minimum: 0\n",
      "\n",
      "Maximum: 9\n",
      "\n",
      "Variância 4.7475\n",
      "\n",
      "Desvio padrão 2.1788758569500923\n",
      "None\n"
     ]
    }
   ],
   "source": [
    "def describe_array(array):\n",
    "    print(\"Descriptive analysis\")\n",
    "    print(\"\\nArray =\", array)\n",
    "    print(\"\\nMeasures of Central Tendency\\n\")\n",
    "    print(\"\\nMédia:\", np.mean(array))\n",
    "    print(\"\\nMediana:\", np.median(array))\n",
    "    print(\"\\nMeasures of Dispersion\\n\")\n",
    "    print(\"Minimum:\", np.amin(array))\n",
    "    print(\"\\nMaximum:\", np.amax(array))\n",
    "    #print(\"\\nRange:\", range(array))\n",
    "    print(\"\\nVariância\", np.var(array))\n",
    "    print(\"\\nDesvio padrão\", np.std(array))\n",
    "\n",
    "print(describe_array(x))"
   ]
  },
  {
   "cell_type": "markdown",
   "metadata": {},
   "source": [
    "# Questions on Polynomial\n",
    "- Define a polynomial function\n"
   ]
  },
  {
   "cell_type": "code",
   "execution_count": 253,
   "metadata": {},
   "outputs": [
    {
     "name": "stdout",
     "output_type": "stream",
     "text": [
      "\n",
      " p2 : \n",
      "    4     3     2\n",
      "1 x + 1 x + 2 x + 3 x + 5\n"
     ]
    }
   ],
   "source": [
    "p2 = np.poly1d([1, 1, 2, 3, 5])\n",
    "print (\"\\n p2 : \\n\", p2)"
   ]
  },
  {
   "cell_type": "markdown",
   "metadata": {},
   "source": [
    "- How to add one polynomial to another using NumPy in Python?\n"
   ]
  },
  {
   "cell_type": "code",
   "execution_count": 254,
   "metadata": {},
   "outputs": [
    {
     "name": "stdout",
     "output_type": "stream",
     "text": [
      "P(x)\n",
      " (5, -2, 5)\n",
      "\n",
      "Q(x) (2, -5, 2)\n",
      "\n",
      "S(x) = P(x)+Q(x)\n",
      " [ 7. -7.  7.]\n"
     ]
    }
   ],
   "source": [
    "px = (5,-2,5)\n",
    "\n",
    "qx = (2,-5,2)\n",
    "  \n",
    "sx = numpy.polynomial.polynomial.polyadd(px,qx)\n",
    "print(\"P(x)\\n\", px)\n",
    "print(\"\\nQ(x)\", qx)\n",
    "print(\"\\nS(x) = P(x)+Q(x)\\n\", sx)\n"
   ]
  },
  {
   "cell_type": "markdown",
   "metadata": {},
   "source": [
    "- How to subtract one polynomial to another using NumPy in Python?\n"
   ]
  },
  {
   "cell_type": "code",
   "execution_count": 255,
   "metadata": {},
   "outputs": [
    {
     "name": "stdout",
     "output_type": "stream",
     "text": [
      "P(x)\n",
      " (5, -2, 5)\n",
      "\n",
      "Q(x) (2, -5, 2)\n",
      "\n",
      "S(x) = P(x)-Q(x)\n",
      " [3. 3. 3.]\n"
     ]
    }
   ],
   "source": [
    "sub_x = numpy.polynomial.polynomial.polysub(px,qx)\n",
    "print(\"P(x)\\n\", px)\n",
    "print(\"\\nQ(x)\", qx)\n",
    "print(\"\\nS(x) = P(x)-Q(x)\\n\", sub_x)"
   ]
  },
  {
   "cell_type": "markdown",
   "metadata": {},
   "source": [
    "- How to multiply a polynomial to another using NumPy in Python?\n"
   ]
  },
  {
   "cell_type": "code",
   "execution_count": 256,
   "metadata": {},
   "outputs": [
    {
     "name": "stdout",
     "output_type": "stream",
     "text": [
      "P(x)\n",
      " (5, -2, 5)\n",
      "\n",
      "Q(x) (2, -5, 2)\n",
      "\n",
      "S(x) = P(x)*Q(x)\n",
      " [ 10. -29.  30. -29.  10.]\n"
     ]
    }
   ],
   "source": [
    "mult_x = numpy.polynomial.polynomial.polymul(px, qx)\n",
    "print(\"P(x)\\n\", px)\n",
    "print(\"\\nQ(x)\", qx)\n",
    "print(\"\\nS(x) = P(x)*Q(x)\\n\", mult_x)"
   ]
  },
  {
   "cell_type": "markdown",
   "metadata": {},
   "source": [
    "- How to divide a polynomial to another using NumPy in Python?\n"
   ]
  },
  {
   "cell_type": "code",
   "execution_count": 257,
   "metadata": {},
   "outputs": [
    {
     "name": "stdout",
     "output_type": "stream",
     "text": [
      "P(x)\n",
      " (5, -2, 5)\n",
      "\n",
      "Q(x) (2, -5, 2)\n",
      "\n",
      "Quo(x) [2.5]\n",
      "\n",
      "R(x) [ 0.  10.5]\n"
     ]
    }
   ],
   "source": [
    "quo_x, rx = numpy.polynomial.polynomial.polydiv(px, qx)\n",
    "print(\"P(x)\\n\", px)\n",
    "print(\"\\nQ(x)\", qx)\n",
    "print(\"\\nQuo(x)\", quo_x)\n",
    "print(\"\\nR(x)\", rx)"
   ]
  },
  {
   "cell_type": "markdown",
   "metadata": {},
   "source": [
    "- Find the roots of the polynomials using NumPy\n"
   ]
  },
  {
   "cell_type": "code",
   "execution_count": 258,
   "metadata": {},
   "outputs": [
    {
     "name": "stdout",
     "output_type": "stream",
     "text": [
      "   4     3     2\n",
      "1 x + 1 x + 2 x + 3 x + 5\n",
      "\n",
      "Raízes:  [-2.32471796+0.j         -0.33764102+0.56227951j -0.33764102-0.56227951j]\n"
     ]
    }
   ],
   "source": [
    "coeffs = [1, 3, 2, 1]\n",
    "poly = np.poly1d([1, 1, 2, 3, 5])\n",
    "print(poly)\n",
    "print(\"\\nRaízes: \", np.roots(coeffs))"
   ]
  },
  {
   "cell_type": "markdown",
   "metadata": {},
   "source": [
    "- Evaluate a 2-D polynomial series on the Cartesian product\n"
   ]
  },
  {
   "cell_type": "code",
   "execution_count": 260,
   "metadata": {},
   "outputs": [
    {
     "name": "stdout",
     "output_type": "stream",
     "text": [
      "[[3271. 5025.]\n",
      " [4107. 6309.]]\n"
     ]
    }
   ],
   "source": [
    "from numpy.polynomial.polynomial import polygrid2d\n",
    "  \n",
    "arr_2d = np.array([[1, 3, 5], [2, 4, 6]]) \n",
    "  \n",
    "ans_2d = polygrid2d([7, 9], [8, 10], arr)\n",
    "print(ans_2d)"
   ]
  },
  {
   "cell_type": "markdown",
   "metadata": {},
   "source": [
    "- Evaluate a 3-D polynomial series on the Cartesian product\n"
   ]
  },
  {
   "cell_type": "code",
   "execution_count": 261,
   "metadata": {},
   "outputs": [
    {
     "name": "stdout",
     "output_type": "stream",
     "text": [
      "[[416970. 491223.]\n",
      " [635850. 749079.]]\n"
     ]
    }
   ],
   "source": [
    "from numpy.polynomial.polynomial import polygrid3d\n",
    "\n",
    "arr_3d = np.array([[1, 3, 5], [2, 4, 6], [10, 11, 12]]) \n",
    "\n",
    "ans_3d = polygrid3d([7, 9], [8, 10], [5, 6], arr_3d)\n",
    "print(ans_3d)"
   ]
  },
  {
   "cell_type": "markdown",
   "metadata": {},
   "source": [
    "# Questions on NumPy Strings\n",
    "- Repeat all the elements of a NumPy array of strings\n"
   ]
  },
  {
   "cell_type": "code",
   "execution_count": 266,
   "metadata": {},
   "outputs": [
    {
     "name": "stdout",
     "output_type": "stream",
     "text": [
      "Original Array :\n",
      "[[1 3 5]\n",
      " [2 4 6]]\n",
      "\n",
      "Repetindo:\n",
      "['EdEdEd' 'vovovo' 'nalnalnal' 'dododo' 'HoHoHo' 'rarara' 'ciociocio']\n"
     ]
    }
   ],
   "source": [
    "arr_name = np.array(['Ed', 'vo', 'nal', 'do', 'Ho', 'ra', 'cio'], dtype = np.str)\n",
    "print(\"Original Array :\")\n",
    "print(arr)\n",
    "repeat = np.char.multiply(arr_name, 3)\n",
    "print(\"\\nRepetindo:\")\n",
    "print(repeat)"
   ]
  },
  {
   "cell_type": "markdown",
   "metadata": {},
   "source": [
    "- How to split the element of a given NumPy array with spaces?\n"
   ]
  },
  {
   "cell_type": "code",
   "execution_count": 267,
   "metadata": {},
   "outputs": [
    {
     "name": "stdout",
     "output_type": "stream",
     "text": [
      "['Aluno especial 2021.2 PPGI UFAL']\n",
      "\n",
      " [list(['Aluno', 'especial', '2021.2', 'PPGI', 'UFAL'])]\n"
     ]
    }
   ],
   "source": [
    "array_str = np.array(['Aluno especial 2021.2 PPGI UFAL'], dtype=np.str)\n",
    "print(array_str)\n",
    "\n",
    "sep = np.char.split(array_str)\n",
    "print(\"\\n\",sep)"
   ]
  },
  {
   "cell_type": "markdown",
   "metadata": {},
   "source": [
    "- How to insert a space between characters of all the elements of a given NumPy array?\n"
   ]
  },
  {
   "cell_type": "code",
   "execution_count": 268,
   "metadata": {},
   "outputs": [
    {
     "name": "stdout",
     "output_type": "stream",
     "text": [
      "Array: ['edvonalo' 'horacio' 'dos' 'santos']\n",
      "\n",
      " ['e d v o n a l o' 'h o r a c i o' 'd o s' 's a n t o s']\n"
     ]
    }
   ],
   "source": [
    "x_name = np.array([\"edvonalo\", \"horacio\", \"dos\", \"santos\"], dtype=np.str)\n",
    "print(\"Array:\",x_name)\n",
    "\n",
    "res_name = np.char.join(\" \", x_name)\n",
    "print(\"\\n\", res_name)"
   ]
  },
  {
   "cell_type": "markdown",
   "metadata": {},
   "source": [
    "- Find the length of each string element in the Numpy array\n"
   ]
  },
  {
   "cell_type": "code",
   "execution_count": 270,
   "metadata": {},
   "outputs": [
    {
     "name": "stdout",
     "output_type": "stream",
     "text": [
      "\n",
      " [8 7 3 6]\n"
     ]
    }
   ],
   "source": [
    "length_check = np.vectorize(len)\n",
    "\n",
    "arr_len = length_check(x_name)\n",
    "\n",
    "print(\"\\n\",arr_len)"
   ]
  },
  {
   "cell_type": "markdown",
   "metadata": {},
   "source": [
    "- Swap the case of an array of string\n"
   ]
  },
  {
   "cell_type": "code",
   "execution_count": 272,
   "metadata": {},
   "outputs": [
    {
     "name": "stdout",
     "output_type": "stream",
     "text": [
      "\n",
      " ['EDVONALO' 'HORACIO' 'DOS' 'SANTOS']\n"
     ]
    }
   ],
   "source": [
    "swap_name = np.char.swapcase(x_name)\n",
    "print(\"\\n\", swap_name)"
   ]
  },
  {
   "cell_type": "markdown",
   "metadata": {},
   "source": [
    "- Change the case to uppercase of elements of an array\n"
   ]
  },
  {
   "cell_type": "code",
   "execution_count": 274,
   "metadata": {},
   "outputs": [
    {
     "name": "stdout",
     "output_type": "stream",
     "text": [
      "\n",
      " ['EDVONALO' 'HORACIO' 'DOS' 'SANTOS' 'EHS']\n"
     ]
    }
   ],
   "source": [
    "full_name = np.array([\"edvonalo\", \"horacio\", \"dos\", \"santos\", \"ehs\"], dtype=np.str)\n",
    "upper_name = np.char.upper(full_name)\n",
    "print(\"\\n\", upper_name)"
   ]
  },
  {
   "cell_type": "markdown",
   "metadata": {},
   "source": [
    "- Change the case to lowercase of elements of an array"
   ]
  },
  {
   "cell_type": "code",
   "execution_count": 275,
   "metadata": {},
   "outputs": [
    {
     "name": "stdout",
     "output_type": "stream",
     "text": [
      "\n",
      " ['edvonalo' 'horacio' 'dos' 'santos' 'ehs']\n"
     ]
    }
   ],
   "source": [
    "lower_name = np.char.lower(upper_name)\n",
    "print(\"\\n\", lower_name)"
   ]
  },
  {
   "cell_type": "markdown",
   "metadata": {},
   "source": [
    "- Join String by a seperator\n"
   ]
  },
  {
   "cell_type": "code",
   "execution_count": 284,
   "metadata": {},
   "outputs": [
    {
     "name": "stdout",
     "output_type": "stream",
     "text": [
      "\n",
      " ['E-d-v-o-n-a-l-d-o' 'H+o+r+a+c+i+o' 'S*a*n*t*o*s']\n"
     ]
    }
   ],
   "source": [
    "sep = np.array(['-', '+', '*'])\n",
    "text = np.array(['Edvonaldo', 'Horacio', 'Santos'])\n",
    "out_names = np.core.defchararray.join(sep, text)\n",
    "print (\"\\n\", out_names)"
   ]
  },
  {
   "cell_type": "markdown",
   "metadata": {},
   "source": [
    "- Check if two same shaped string arrayss one by one\n"
   ]
  },
  {
   "cell_type": "code",
   "execution_count": 287,
   "metadata": {},
   "outputs": [
    {
     "name": "stdout",
     "output_type": "stream",
     "text": [
      "São iguais?\n",
      " False\n"
     ]
    }
   ],
   "source": [
    "str_1 = np.array('numpy')\n",
    "str_2 = np.array('Nump')\n",
    "check_equal = np.char.equal(str_1, str_2)\n",
    "print (\"São iguais?\\n\", check_equal) "
   ]
  },
  {
   "cell_type": "markdown",
   "metadata": {},
   "source": [
    "- Count the number of substrings in an array\n"
   ]
  },
  {
   "cell_type": "code",
   "execution_count": 289,
   "metadata": {},
   "outputs": [
    {
     "name": "stdout",
     "output_type": "stream",
     "text": [
      "\n",
      " 45\n"
     ]
    }
   ],
   "source": [
    "def number_substrings(str):\n",
    "    n = len(str);\n",
    "    return int(n * (n + 1) / 2);\n",
    " \n",
    "txt = \"edvonaldo\";\n",
    "print(\"\\n\",number_substrings(txt));"
   ]
  },
  {
   "cell_type": "markdown",
   "metadata": {},
   "source": [
    "- Find the lowest index of the substring in an array\n"
   ]
  },
  {
   "cell_type": "code",
   "execution_count": 293,
   "metadata": {},
   "outputs": [
    {
     "name": "stdout",
     "output_type": "stream",
     "text": [
      "[6 4 4 3 0 6 6 0 5 5 4 7 5 3 2 6 7 4 5 9]\n",
      "\n",
      " 0\n"
     ]
    }
   ],
   "source": [
    "def get_index(array, k):\n",
    "    n = len(array)\n",
    "    for idx in range(n):\n",
    "        sum_ = 0\n",
    "        div = 1\n",
    "        for item in array:\n",
    "            sum_ += item//div\n",
    "            div += 1\n",
    "            if sum_ > k:\n",
    "                break\n",
    "            if sum_ <= k:\n",
    "                return idx\n",
    "            \n",
    "    return -1\n",
    " \n",
    "K = 8\n",
    "print(x)\n",
    "print(\"\\n\", get_index(x, K))"
   ]
  },
  {
   "cell_type": "markdown",
   "metadata": {},
   "source": [
    "- Get the boolean array when values end with a particular character\n"
   ]
  },
  {
   "cell_type": "code",
   "execution_count": 295,
   "metadata": {},
   "outputs": [
    {
     "name": "stdout",
     "output_type": "stream",
     "text": [
      "edvonaldo\n",
      "\n",
      " False\n"
     ]
    }
   ],
   "source": [
    "res_sub = np.char.endswith(txt, 'dv')\n",
    "\n",
    "print(txt)\n",
    "print(\"\\n\",res_sub)"
   ]
  },
  {
   "cell_type": "markdown",
   "metadata": {},
   "source": [
    "- More Questions on NumPy\n"
   ]
  },
  {
   "cell_type": "markdown",
   "metadata": {},
   "source": [
    "- Different ways to convert a Python dictionary to a NumPy array\n"
   ]
  },
  {
   "cell_type": "code",
   "execution_count": 298,
   "metadata": {},
   "outputs": [
    {
     "name": "stdout",
     "output_type": "stream",
     "text": [
      "<class 'dict'>\n",
      "\n",
      " [[  0   0]\n",
      " [  1   1]\n",
      " [  2   8]\n",
      " [  3  27]\n",
      " [  4  64]\n",
      " [  5 125]\n",
      " [  6 216]]\n",
      "<class 'numpy.ndarray'>\n"
     ]
    }
   ],
   "source": [
    "# Modo 1\n",
    "my_dict = {0: 0, 1: 1, 2: 8, 3: 27,\n",
    "                4: 64, 5: 125, 6: 216}\n",
    "print(type(my_dict))\n",
    "\n",
    "res_array = np.array(list(my_dict.items()))\n",
    "\n",
    "print(\"\\n\", res_array)\n",
    "\n",
    "print(type(res_array))"
   ]
  },
  {
   "cell_type": "markdown",
   "metadata": {},
   "source": [
    "- How to convert a list and tuple into NumPy arrays?\n"
   ]
  },
  {
   "cell_type": "code",
   "execution_count": 300,
   "metadata": {},
   "outputs": [
    {
     "name": "stdout",
     "output_type": "stream",
     "text": [
      "<class 'tuple'>\n",
      "([8, 4, 6], [1, 2, 3])\n",
      "\n",
      "<class 'numpy.ndarray'>\n",
      "[[8 4 6]\n",
      " [1 2 3]]\n"
     ]
    }
   ],
   "source": [
    "tuple_ = ([8, 4, 6], [1, 2, 3])\n",
    "print(type(tuple_))\n",
    "print(tuple_)\n",
    "print()\n",
    "\n",
    "array_ = np.asarray(tuple_)\n",
    "print(type(array_))\n",
    "print(array_)"
   ]
  },
  {
   "cell_type": "markdown",
   "metadata": {},
   "source": [
    "- Ways to convert array of strings to array of floats\n"
   ]
  },
  {
   "cell_type": "code",
   "execution_count": 303,
   "metadata": {},
   "outputs": [
    {
     "name": "stdout",
     "output_type": "stream",
     "text": [
      "Init arr ['1.1' '1.5' '2.7' '8.9']\n",
      "\n",
      "Método 1\n",
      " [1.1 1.5 2.7 8.9]\n"
     ]
    }
   ],
   "source": [
    "ini_arr = np.array([\"1.1\", \"1.5\", \"2.7\", \"8.9\"])\n",
    "\n",
    "print (\"Init arr\", str(ini_arr))\n",
    "\n",
    "method1 = ini_arr.astype(np.float)\n",
    "\n",
    "print (\"\\nMétodo 1\\n\", str(method1))"
   ]
  },
  {
   "cell_type": "code",
   "execution_count": 305,
   "metadata": {},
   "outputs": [
    {
     "name": "stdout",
     "output_type": "stream",
     "text": [
      "\n",
      "Método 2\n",
      " [1.1 1.5 2.7 8.9]\n"
     ]
    }
   ],
   "source": [
    "method2 = np.asarray(ini_arr, dtype = np.float64, order ='C')\n",
    "print (\"\\nMétodo 2\\n\", str(method2))"
   ]
  },
  {
   "cell_type": "markdown",
   "metadata": {},
   "source": [
    "- Convert a NumPy array into a csv file\n"
   ]
  },
  {
   "cell_type": "code",
   "execution_count": 308,
   "metadata": {},
   "outputs": [
    {
     "name": "stdout",
     "output_type": "stream",
     "text": [
      "[[ 0  1  2  3  4  5  6  7  8  9]\n",
      " [10 11 12 13 14 15 16 17 18 19]]\n"
     ]
    }
   ],
   "source": [
    "import pandas as pd\n",
    "\n",
    "arr_csv = np.arange(0,20).reshape(2,-1)\n",
    "\n",
    "print(arr_csv)\n",
    "\n",
    "df = pd.DataFrame(arr_csv)\n",
    "  \n",
    "df.to_csv(\"data_arr.csv\")"
   ]
  },
  {
   "cell_type": "markdown",
   "metadata": {},
   "source": [
    "- How to Convert an image to NumPy array and save it to CSV file using Python?\n"
   ]
  },
  {
   "cell_type": "code",
   "execution_count": 309,
   "metadata": {},
   "outputs": [
    {
     "name": "stdout",
     "output_type": "stream",
     "text": [
      "(512, 512, 3)\n"
     ]
    }
   ],
   "source": [
    "from PIL import Image\n",
    "# read an image\n",
    "img = Image.open('baboon.png')\n",
    "\n",
    "img_to_matrix = np.asarray(img)\n",
    "  \n",
    "# printing shape of image\n",
    "print(img_to_matrix.shape)"
   ]
  },
  {
   "cell_type": "markdown",
   "metadata": {},
   "source": [
    "- How to save a NumPy array to a text file?\n"
   ]
  },
  {
   "cell_type": "code",
   "execution_count": 310,
   "metadata": {},
   "outputs": [
    {
     "name": "stdout",
     "output_type": "stream",
     "text": [
      "Array:\n",
      " [12  5  8  1  1  6  7  7  5  5  8 12 10  8  9  1  1  5  4  7]\n",
      "\n",
      "Conteúdo de file.txt:\n",
      " [12  5  8  1  1  6  7  7  5  5  8 12 10  8  9  1  1  5  4  7]\n"
     ]
    }
   ],
   "source": [
    "arr_file = np.random.randint(0,15,20)\n",
    "\n",
    "print('Array:\\n', arr_file)\n",
    "file = open(\"file.txt\", \"w+\")\n",
    " \n",
    "content = str(arr_file)\n",
    "file.write(content)\n",
    "file.close()\n",
    "\n",
    "file = open(\"file.txt\", \"r\")\n",
    "content = file.read()\n",
    " \n",
    "print(\"\\nConteúdo de file.txt:\\n\", content)\n",
    "file.close()"
   ]
  },
  {
   "cell_type": "markdown",
   "metadata": {},
   "source": [
    "- Load data from a text file\n"
   ]
  },
  {
   "cell_type": "code",
   "execution_count": 311,
   "metadata": {},
   "outputs": [
    {
     "name": "stdout",
     "output_type": "stream",
     "text": [
      "\n",
      "Conteúdo de file.txt:\n",
      " [12  5  8  1  1  6  7  7  5  5  8 12 10  8  9  1  1  5  4  7]\n"
     ]
    }
   ],
   "source": [
    "file = open(\"file.txt\", \"r\")\n",
    "content = file.read()\n",
    " \n",
    "print(\"\\nConteúdo de file.txt:\\n\", content)\n",
    "file.close()"
   ]
  },
  {
   "cell_type": "markdown",
   "metadata": {},
   "source": [
    "- Plot line graph from NumPy array\n"
   ]
  },
  {
   "cell_type": "code",
   "execution_count": 320,
   "metadata": {},
   "outputs": [
    {
     "data": {
      "image/png": "[encoded data removed]",
      "text/plain": [
       "<Figure size 432x288 with 1 Axes>"
      ]
     },
     "metadata": {
      "needs_background": "light"
     },
     "output_type": "display_data"
    }
   ],
   "source": [
    "import matplotlib.pyplot as plt\n",
    "from IPython.display import Latex\n",
    "\n",
    "x = np.arange(0, 100)\n",
    "y = np.sqrt(x)\n",
    " \n",
    "# plotting\n",
    "plt.title(r'Gráfico y = $\\sqrt{x}$')\n",
    "plt.xlabel(\"X axis\")\n",
    "plt.ylabel(\"Y axis\")\n",
    "plt.plot(x, y, color =\"red\")\n",
    "plt.show()"
   ]
  },
  {
   "cell_type": "markdown",
   "metadata": {},
   "source": [
    "- Create Histogram using NumPy"
   ]
  },
  {
   "cell_type": "code",
   "execution_count": 323,
   "metadata": {},
   "outputs": [
    {
     "data": {
      "image/png": "[encoded data removed]",
      "text/plain": [
       "<Figure size 432x288 with 1 Axes>"
      ]
     },
     "metadata": {
      "needs_background": "light"
     },
     "output_type": "display_data"
    }
   ],
   "source": [
    "rng = np.random.RandomState(1000)  # deterministic random data\n",
    "a = np.hstack((rng.normal(size=1000),\n",
    "               rng.normal(loc=5, scale=2, size=1000)))\n",
    "plt.hist(a, bins='auto')  # arguments are passed to np.histogram\n",
    "plt.title(\"Histograma com 'auto' bins\")\n",
    "plt.show()"
   ]
  },
  {
   "cell_type": "code",
   "execution_count": null,
   "metadata": {},
   "outputs": [],
   "source": []
  }
 ],
 "metadata": {
  "kernelspec": {
   "display_name": "Python 3",
   "language": "python",
   "name": "python3"
  },
  "language_info": {
   "codemirror_mode": {
    "name": "ipython",
    "version": 3
   },
   "file_extension": ".py",
   "mimetype": "text/x-python",
   "name": "python",
   "nbconvert_exporter": "python",
   "pygments_lexer": "ipython3",
   "version": "3.8.5"
  }
 },
 "nbformat": 4,
 "nbformat_minor": 4
}
